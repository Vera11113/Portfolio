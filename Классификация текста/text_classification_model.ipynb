{
  "metadata": {
    "kernelspec": {
      "name": "python3",
      "display_name": "Python 3",
      "language": "python"
    },
    "language_info": {
      "name": "python",
      "version": "3.11.13",
      "mimetype": "text/x-python",
      "codemirror_mode": {
        "name": "ipython",
        "version": 3
      },
      "pygments_lexer": "ipython3",
      "nbconvert_exporter": "python",
      "file_extension": ".py"
    },
    "colab": {
      "provenance": []
    },
    "widgets": {
      "application/vnd.jupyter.widget-state+json": {
        "b98a6d25852249a6966b5b24e1c23034": {
          "model_module": "@jupyter-widgets/controls",
          "model_name": "HBoxModel",
          "model_module_version": "1.5.0",
          "state": {
            "_dom_classes": [],
            "_model_module": "@jupyter-widgets/controls",
            "_model_module_version": "1.5.0",
            "_model_name": "HBoxModel",
            "_view_count": null,
            "_view_module": "@jupyter-widgets/controls",
            "_view_module_version": "1.5.0",
            "_view_name": "HBoxView",
            "box_style": "",
            "children": [
              "IPY_MODEL_a9ee5365c7c14fd399663fa0e71138c6",
              "IPY_MODEL_4a2cc15ab2904a97a20ee39827b32e3e",
              "IPY_MODEL_2fed09ada0f54f7d9e11781605070b0a"
            ],
            "layout": "IPY_MODEL_84210af594504880a39bd7dc5acf316c"
          }
        },
        "a9ee5365c7c14fd399663fa0e71138c6": {
          "model_module": "@jupyter-widgets/controls",
          "model_name": "HTMLModel",
          "model_module_version": "1.5.0",
          "state": {
            "_dom_classes": [],
            "_model_module": "@jupyter-widgets/controls",
            "_model_module_version": "1.5.0",
            "_model_name": "HTMLModel",
            "_view_count": null,
            "_view_module": "@jupyter-widgets/controls",
            "_view_module_version": "1.5.0",
            "_view_name": "HTMLView",
            "description": "",
            "description_tooltip": null,
            "layout": "IPY_MODEL_1727796805a94320a76efbda40dfbcd9",
            "placeholder": "​",
            "style": "IPY_MODEL_96a8c5be497440589b3d4a981a6121d3",
            "value": "Map: 100%"
          }
        },
        "4a2cc15ab2904a97a20ee39827b32e3e": {
          "model_module": "@jupyter-widgets/controls",
          "model_name": "FloatProgressModel",
          "model_module_version": "1.5.0",
          "state": {
            "_dom_classes": [],
            "_model_module": "@jupyter-widgets/controls",
            "_model_module_version": "1.5.0",
            "_model_name": "FloatProgressModel",
            "_view_count": null,
            "_view_module": "@jupyter-widgets/controls",
            "_view_module_version": "1.5.0",
            "_view_name": "ProgressView",
            "bar_style": "success",
            "description": "",
            "description_tooltip": null,
            "layout": "IPY_MODEL_4a30619cb67a4b248158c11765f9d57d",
            "max": 189891,
            "min": 0,
            "orientation": "horizontal",
            "style": "IPY_MODEL_74b2f34c26b749e6a7fe727bd2c38cc6",
            "value": 189891
          }
        },
        "2fed09ada0f54f7d9e11781605070b0a": {
          "model_module": "@jupyter-widgets/controls",
          "model_name": "HTMLModel",
          "model_module_version": "1.5.0",
          "state": {
            "_dom_classes": [],
            "_model_module": "@jupyter-widgets/controls",
            "_model_module_version": "1.5.0",
            "_model_name": "HTMLModel",
            "_view_count": null,
            "_view_module": "@jupyter-widgets/controls",
            "_view_module_version": "1.5.0",
            "_view_name": "HTMLView",
            "description": "",
            "description_tooltip": null,
            "layout": "IPY_MODEL_ae98c88fa1704f2780b177319b0bab28",
            "placeholder": "​",
            "style": "IPY_MODEL_e6f0ad05644042d8bc83623ca5fc264a",
            "value": " 189891/189891 [02:11&lt;00:00, 1595.23 examples/s]"
          }
        },
        "84210af594504880a39bd7dc5acf316c": {
          "model_module": "@jupyter-widgets/base",
          "model_name": "LayoutModel",
          "model_module_version": "1.2.0",
          "state": {
            "_model_module": "@jupyter-widgets/base",
            "_model_module_version": "1.2.0",
            "_model_name": "LayoutModel",
            "_view_count": null,
            "_view_module": "@jupyter-widgets/base",
            "_view_module_version": "1.2.0",
            "_view_name": "LayoutView",
            "align_content": null,
            "align_items": null,
            "align_self": null,
            "border": null,
            "bottom": null,
            "display": null,
            "flex": null,
            "flex_flow": null,
            "grid_area": null,
            "grid_auto_columns": null,
            "grid_auto_flow": null,
            "grid_auto_rows": null,
            "grid_column": null,
            "grid_gap": null,
            "grid_row": null,
            "grid_template_areas": null,
            "grid_template_columns": null,
            "grid_template_rows": null,
            "height": null,
            "justify_content": null,
            "justify_items": null,
            "left": null,
            "margin": null,
            "max_height": null,
            "max_width": null,
            "min_height": null,
            "min_width": null,
            "object_fit": null,
            "object_position": null,
            "order": null,
            "overflow": null,
            "overflow_x": null,
            "overflow_y": null,
            "padding": null,
            "right": null,
            "top": null,
            "visibility": null,
            "width": null
          }
        },
        "1727796805a94320a76efbda40dfbcd9": {
          "model_module": "@jupyter-widgets/base",
          "model_name": "LayoutModel",
          "model_module_version": "1.2.0",
          "state": {
            "_model_module": "@jupyter-widgets/base",
            "_model_module_version": "1.2.0",
            "_model_name": "LayoutModel",
            "_view_count": null,
            "_view_module": "@jupyter-widgets/base",
            "_view_module_version": "1.2.0",
            "_view_name": "LayoutView",
            "align_content": null,
            "align_items": null,
            "align_self": null,
            "border": null,
            "bottom": null,
            "display": null,
            "flex": null,
            "flex_flow": null,
            "grid_area": null,
            "grid_auto_columns": null,
            "grid_auto_flow": null,
            "grid_auto_rows": null,
            "grid_column": null,
            "grid_gap": null,
            "grid_row": null,
            "grid_template_areas": null,
            "grid_template_columns": null,
            "grid_template_rows": null,
            "height": null,
            "justify_content": null,
            "justify_items": null,
            "left": null,
            "margin": null,
            "max_height": null,
            "max_width": null,
            "min_height": null,
            "min_width": null,
            "object_fit": null,
            "object_position": null,
            "order": null,
            "overflow": null,
            "overflow_x": null,
            "overflow_y": null,
            "padding": null,
            "right": null,
            "top": null,
            "visibility": null,
            "width": null
          }
        },
        "96a8c5be497440589b3d4a981a6121d3": {
          "model_module": "@jupyter-widgets/controls",
          "model_name": "DescriptionStyleModel",
          "model_module_version": "1.5.0",
          "state": {
            "_model_module": "@jupyter-widgets/controls",
            "_model_module_version": "1.5.0",
            "_model_name": "DescriptionStyleModel",
            "_view_count": null,
            "_view_module": "@jupyter-widgets/base",
            "_view_module_version": "1.2.0",
            "_view_name": "StyleView",
            "description_width": ""
          }
        },
        "4a30619cb67a4b248158c11765f9d57d": {
          "model_module": "@jupyter-widgets/base",
          "model_name": "LayoutModel",
          "model_module_version": "1.2.0",
          "state": {
            "_model_module": "@jupyter-widgets/base",
            "_model_module_version": "1.2.0",
            "_model_name": "LayoutModel",
            "_view_count": null,
            "_view_module": "@jupyter-widgets/base",
            "_view_module_version": "1.2.0",
            "_view_name": "LayoutView",
            "align_content": null,
            "align_items": null,
            "align_self": null,
            "border": null,
            "bottom": null,
            "display": null,
            "flex": null,
            "flex_flow": null,
            "grid_area": null,
            "grid_auto_columns": null,
            "grid_auto_flow": null,
            "grid_auto_rows": null,
            "grid_column": null,
            "grid_gap": null,
            "grid_row": null,
            "grid_template_areas": null,
            "grid_template_columns": null,
            "grid_template_rows": null,
            "height": null,
            "justify_content": null,
            "justify_items": null,
            "left": null,
            "margin": null,
            "max_height": null,
            "max_width": null,
            "min_height": null,
            "min_width": null,
            "object_fit": null,
            "object_position": null,
            "order": null,
            "overflow": null,
            "overflow_x": null,
            "overflow_y": null,
            "padding": null,
            "right": null,
            "top": null,
            "visibility": null,
            "width": null
          }
        },
        "74b2f34c26b749e6a7fe727bd2c38cc6": {
          "model_module": "@jupyter-widgets/controls",
          "model_name": "ProgressStyleModel",
          "model_module_version": "1.5.0",
          "state": {
            "_model_module": "@jupyter-widgets/controls",
            "_model_module_version": "1.5.0",
            "_model_name": "ProgressStyleModel",
            "_view_count": null,
            "_view_module": "@jupyter-widgets/base",
            "_view_module_version": "1.2.0",
            "_view_name": "StyleView",
            "bar_color": null,
            "description_width": ""
          }
        },
        "ae98c88fa1704f2780b177319b0bab28": {
          "model_module": "@jupyter-widgets/base",
          "model_name": "LayoutModel",
          "model_module_version": "1.2.0",
          "state": {
            "_model_module": "@jupyter-widgets/base",
            "_model_module_version": "1.2.0",
            "_model_name": "LayoutModel",
            "_view_count": null,
            "_view_module": "@jupyter-widgets/base",
            "_view_module_version": "1.2.0",
            "_view_name": "LayoutView",
            "align_content": null,
            "align_items": null,
            "align_self": null,
            "border": null,
            "bottom": null,
            "display": null,
            "flex": null,
            "flex_flow": null,
            "grid_area": null,
            "grid_auto_columns": null,
            "grid_auto_flow": null,
            "grid_auto_rows": null,
            "grid_column": null,
            "grid_gap": null,
            "grid_row": null,
            "grid_template_areas": null,
            "grid_template_columns": null,
            "grid_template_rows": null,
            "height": null,
            "justify_content": null,
            "justify_items": null,
            "left": null,
            "margin": null,
            "max_height": null,
            "max_width": null,
            "min_height": null,
            "min_width": null,
            "object_fit": null,
            "object_position": null,
            "order": null,
            "overflow": null,
            "overflow_x": null,
            "overflow_y": null,
            "padding": null,
            "right": null,
            "top": null,
            "visibility": null,
            "width": null
          }
        },
        "e6f0ad05644042d8bc83623ca5fc264a": {
          "model_module": "@jupyter-widgets/controls",
          "model_name": "DescriptionStyleModel",
          "model_module_version": "1.5.0",
          "state": {
            "_model_module": "@jupyter-widgets/controls",
            "_model_module_version": "1.5.0",
            "_model_name": "DescriptionStyleModel",
            "_view_count": null,
            "_view_module": "@jupyter-widgets/base",
            "_view_module_version": "1.2.0",
            "_view_name": "StyleView",
            "description_width": ""
          }
        },
        "e0384f5c2ad94642bae30092f2d45785": {
          "model_module": "@jupyter-widgets/controls",
          "model_name": "HBoxModel",
          "model_module_version": "1.5.0",
          "state": {
            "_dom_classes": [],
            "_model_module": "@jupyter-widgets/controls",
            "_model_module_version": "1.5.0",
            "_model_name": "HBoxModel",
            "_view_count": null,
            "_view_module": "@jupyter-widgets/controls",
            "_view_module_version": "1.5.0",
            "_view_name": "HBoxView",
            "box_style": "",
            "children": [
              "IPY_MODEL_dd0bb45f63b9426b995ee11eba7b157f",
              "IPY_MODEL_a45246ee21574434820a79b26859b76e",
              "IPY_MODEL_3d3771bdd04b423ea18c26adedc14b4f"
            ],
            "layout": "IPY_MODEL_44c70d688ac646cdad721fff9a88cb23"
          }
        },
        "dd0bb45f63b9426b995ee11eba7b157f": {
          "model_module": "@jupyter-widgets/controls",
          "model_name": "HTMLModel",
          "model_module_version": "1.5.0",
          "state": {
            "_dom_classes": [],
            "_model_module": "@jupyter-widgets/controls",
            "_model_module_version": "1.5.0",
            "_model_name": "HTMLModel",
            "_view_count": null,
            "_view_module": "@jupyter-widgets/controls",
            "_view_module_version": "1.5.0",
            "_view_name": "HTMLView",
            "description": "",
            "description_tooltip": null,
            "layout": "IPY_MODEL_7ab91e842e594e2592e89dc77a87cec0",
            "placeholder": "​",
            "style": "IPY_MODEL_b46b1bf833d94baa8d5a3d7a0759986b",
            "value": "Map: 100%"
          }
        },
        "a45246ee21574434820a79b26859b76e": {
          "model_module": "@jupyter-widgets/controls",
          "model_name": "FloatProgressModel",
          "model_module_version": "1.5.0",
          "state": {
            "_dom_classes": [],
            "_model_module": "@jupyter-widgets/controls",
            "_model_module_version": "1.5.0",
            "_model_name": "FloatProgressModel",
            "_view_count": null,
            "_view_module": "@jupyter-widgets/controls",
            "_view_module_version": "1.5.0",
            "_view_name": "ProgressView",
            "bar_style": "success",
            "description": "",
            "description_tooltip": null,
            "layout": "IPY_MODEL_c69bca1baa1b4d3dbdd425ad72fc9b03",
            "max": 21098,
            "min": 0,
            "orientation": "horizontal",
            "style": "IPY_MODEL_369a9b3997f74ccd8aef7762dafd0d18",
            "value": 21098
          }
        },
        "3d3771bdd04b423ea18c26adedc14b4f": {
          "model_module": "@jupyter-widgets/controls",
          "model_name": "HTMLModel",
          "model_module_version": "1.5.0",
          "state": {
            "_dom_classes": [],
            "_model_module": "@jupyter-widgets/controls",
            "_model_module_version": "1.5.0",
            "_model_name": "HTMLModel",
            "_view_count": null,
            "_view_module": "@jupyter-widgets/controls",
            "_view_module_version": "1.5.0",
            "_view_name": "HTMLView",
            "description": "",
            "description_tooltip": null,
            "layout": "IPY_MODEL_e669cb677a8d4abfaa04869bf369a100",
            "placeholder": "​",
            "style": "IPY_MODEL_2aa353f794d4472ea6054a1caebe715f",
            "value": " 21098/21098 [00:14&lt;00:00, 1461.99 examples/s]"
          }
        },
        "44c70d688ac646cdad721fff9a88cb23": {
          "model_module": "@jupyter-widgets/base",
          "model_name": "LayoutModel",
          "model_module_version": "1.2.0",
          "state": {
            "_model_module": "@jupyter-widgets/base",
            "_model_module_version": "1.2.0",
            "_model_name": "LayoutModel",
            "_view_count": null,
            "_view_module": "@jupyter-widgets/base",
            "_view_module_version": "1.2.0",
            "_view_name": "LayoutView",
            "align_content": null,
            "align_items": null,
            "align_self": null,
            "border": null,
            "bottom": null,
            "display": null,
            "flex": null,
            "flex_flow": null,
            "grid_area": null,
            "grid_auto_columns": null,
            "grid_auto_flow": null,
            "grid_auto_rows": null,
            "grid_column": null,
            "grid_gap": null,
            "grid_row": null,
            "grid_template_areas": null,
            "grid_template_columns": null,
            "grid_template_rows": null,
            "height": null,
            "justify_content": null,
            "justify_items": null,
            "left": null,
            "margin": null,
            "max_height": null,
            "max_width": null,
            "min_height": null,
            "min_width": null,
            "object_fit": null,
            "object_position": null,
            "order": null,
            "overflow": null,
            "overflow_x": null,
            "overflow_y": null,
            "padding": null,
            "right": null,
            "top": null,
            "visibility": null,
            "width": null
          }
        },
        "7ab91e842e594e2592e89dc77a87cec0": {
          "model_module": "@jupyter-widgets/base",
          "model_name": "LayoutModel",
          "model_module_version": "1.2.0",
          "state": {
            "_model_module": "@jupyter-widgets/base",
            "_model_module_version": "1.2.0",
            "_model_name": "LayoutModel",
            "_view_count": null,
            "_view_module": "@jupyter-widgets/base",
            "_view_module_version": "1.2.0",
            "_view_name": "LayoutView",
            "align_content": null,
            "align_items": null,
            "align_self": null,
            "border": null,
            "bottom": null,
            "display": null,
            "flex": null,
            "flex_flow": null,
            "grid_area": null,
            "grid_auto_columns": null,
            "grid_auto_flow": null,
            "grid_auto_rows": null,
            "grid_column": null,
            "grid_gap": null,
            "grid_row": null,
            "grid_template_areas": null,
            "grid_template_columns": null,
            "grid_template_rows": null,
            "height": null,
            "justify_content": null,
            "justify_items": null,
            "left": null,
            "margin": null,
            "max_height": null,
            "max_width": null,
            "min_height": null,
            "min_width": null,
            "object_fit": null,
            "object_position": null,
            "order": null,
            "overflow": null,
            "overflow_x": null,
            "overflow_y": null,
            "padding": null,
            "right": null,
            "top": null,
            "visibility": null,
            "width": null
          }
        },
        "b46b1bf833d94baa8d5a3d7a0759986b": {
          "model_module": "@jupyter-widgets/controls",
          "model_name": "DescriptionStyleModel",
          "model_module_version": "1.5.0",
          "state": {
            "_model_module": "@jupyter-widgets/controls",
            "_model_module_version": "1.5.0",
            "_model_name": "DescriptionStyleModel",
            "_view_count": null,
            "_view_module": "@jupyter-widgets/base",
            "_view_module_version": "1.2.0",
            "_view_name": "StyleView",
            "description_width": ""
          }
        },
        "c69bca1baa1b4d3dbdd425ad72fc9b03": {
          "model_module": "@jupyter-widgets/base",
          "model_name": "LayoutModel",
          "model_module_version": "1.2.0",
          "state": {
            "_model_module": "@jupyter-widgets/base",
            "_model_module_version": "1.2.0",
            "_model_name": "LayoutModel",
            "_view_count": null,
            "_view_module": "@jupyter-widgets/base",
            "_view_module_version": "1.2.0",
            "_view_name": "LayoutView",
            "align_content": null,
            "align_items": null,
            "align_self": null,
            "border": null,
            "bottom": null,
            "display": null,
            "flex": null,
            "flex_flow": null,
            "grid_area": null,
            "grid_auto_columns": null,
            "grid_auto_flow": null,
            "grid_auto_rows": null,
            "grid_column": null,
            "grid_gap": null,
            "grid_row": null,
            "grid_template_areas": null,
            "grid_template_columns": null,
            "grid_template_rows": null,
            "height": null,
            "justify_content": null,
            "justify_items": null,
            "left": null,
            "margin": null,
            "max_height": null,
            "max_width": null,
            "min_height": null,
            "min_width": null,
            "object_fit": null,
            "object_position": null,
            "order": null,
            "overflow": null,
            "overflow_x": null,
            "overflow_y": null,
            "padding": null,
            "right": null,
            "top": null,
            "visibility": null,
            "width": null
          }
        },
        "369a9b3997f74ccd8aef7762dafd0d18": {
          "model_module": "@jupyter-widgets/controls",
          "model_name": "ProgressStyleModel",
          "model_module_version": "1.5.0",
          "state": {
            "_model_module": "@jupyter-widgets/controls",
            "_model_module_version": "1.5.0",
            "_model_name": "ProgressStyleModel",
            "_view_count": null,
            "_view_module": "@jupyter-widgets/base",
            "_view_module_version": "1.2.0",
            "_view_name": "StyleView",
            "bar_color": null,
            "description_width": ""
          }
        },
        "e669cb677a8d4abfaa04869bf369a100": {
          "model_module": "@jupyter-widgets/base",
          "model_name": "LayoutModel",
          "model_module_version": "1.2.0",
          "state": {
            "_model_module": "@jupyter-widgets/base",
            "_model_module_version": "1.2.0",
            "_model_name": "LayoutModel",
            "_view_count": null,
            "_view_module": "@jupyter-widgets/base",
            "_view_module_version": "1.2.0",
            "_view_name": "LayoutView",
            "align_content": null,
            "align_items": null,
            "align_self": null,
            "border": null,
            "bottom": null,
            "display": null,
            "flex": null,
            "flex_flow": null,
            "grid_area": null,
            "grid_auto_columns": null,
            "grid_auto_flow": null,
            "grid_auto_rows": null,
            "grid_column": null,
            "grid_gap": null,
            "grid_row": null,
            "grid_template_areas": null,
            "grid_template_columns": null,
            "grid_template_rows": null,
            "height": null,
            "justify_content": null,
            "justify_items": null,
            "left": null,
            "margin": null,
            "max_height": null,
            "max_width": null,
            "min_height": null,
            "min_width": null,
            "object_fit": null,
            "object_position": null,
            "order": null,
            "overflow": null,
            "overflow_x": null,
            "overflow_y": null,
            "padding": null,
            "right": null,
            "top": null,
            "visibility": null,
            "width": null
          }
        },
        "2aa353f794d4472ea6054a1caebe715f": {
          "model_module": "@jupyter-widgets/controls",
          "model_name": "DescriptionStyleModel",
          "model_module_version": "1.5.0",
          "state": {
            "_model_module": "@jupyter-widgets/controls",
            "_model_module_version": "1.5.0",
            "_model_name": "DescriptionStyleModel",
            "_view_count": null,
            "_view_module": "@jupyter-widgets/base",
            "_view_module_version": "1.2.0",
            "_view_name": "StyleView",
            "description_width": ""
          }
        },
        "3536bcccdc3f4d019024264b010cb3ed": {
          "model_module": "@jupyter-widgets/controls",
          "model_name": "HBoxModel",
          "model_module_version": "1.5.0",
          "state": {
            "_dom_classes": [],
            "_model_module": "@jupyter-widgets/controls",
            "_model_module_version": "1.5.0",
            "_model_name": "HBoxModel",
            "_view_count": null,
            "_view_module": "@jupyter-widgets/controls",
            "_view_module_version": "1.5.0",
            "_view_name": "HBoxView",
            "box_style": "",
            "children": [
              "IPY_MODEL_22a48144bd9b4dd384e16b9d31dcb00f",
              "IPY_MODEL_d2f161c12d88487d9eaad281fdb4a8a2",
              "IPY_MODEL_7c7fd2f595cc47fc8093c942e3331a14"
            ],
            "layout": "IPY_MODEL_ca78dfe7e343453fb014f5508d291f7e"
          }
        },
        "22a48144bd9b4dd384e16b9d31dcb00f": {
          "model_module": "@jupyter-widgets/controls",
          "model_name": "HTMLModel",
          "model_module_version": "1.5.0",
          "state": {
            "_dom_classes": [],
            "_model_module": "@jupyter-widgets/controls",
            "_model_module_version": "1.5.0",
            "_model_name": "HTMLModel",
            "_view_count": null,
            "_view_module": "@jupyter-widgets/controls",
            "_view_module_version": "1.5.0",
            "_view_name": "HTMLView",
            "description": "",
            "description_tooltip": null,
            "layout": "IPY_MODEL_a44092188dfe4332a40c4c9296daa790",
            "placeholder": "​",
            "style": "IPY_MODEL_904207b17de145d086d1b56470770dfb",
            "value": "pytorch_model.bin: 100%"
          }
        },
        "d2f161c12d88487d9eaad281fdb4a8a2": {
          "model_module": "@jupyter-widgets/controls",
          "model_name": "FloatProgressModel",
          "model_module_version": "1.5.0",
          "state": {
            "_dom_classes": [],
            "_model_module": "@jupyter-widgets/controls",
            "_model_module_version": "1.5.0",
            "_model_name": "FloatProgressModel",
            "_view_count": null,
            "_view_module": "@jupyter-widgets/controls",
            "_view_module_version": "1.5.0",
            "_view_name": "ProgressView",
            "bar_style": "success",
            "description": "",
            "description_tooltip": null,
            "layout": "IPY_MODEL_e97f4a9159d0476e9f40781b29787f5d",
            "max": 714355318,
            "min": 0,
            "orientation": "horizontal",
            "style": "IPY_MODEL_1739fec26fe945b98131799a2f292884",
            "value": 714355318
          }
        },
        "7c7fd2f595cc47fc8093c942e3331a14": {
          "model_module": "@jupyter-widgets/controls",
          "model_name": "HTMLModel",
          "model_module_version": "1.5.0",
          "state": {
            "_dom_classes": [],
            "_model_module": "@jupyter-widgets/controls",
            "_model_module_version": "1.5.0",
            "_model_name": "HTMLModel",
            "_view_count": null,
            "_view_module": "@jupyter-widgets/controls",
            "_view_module_version": "1.5.0",
            "_view_name": "HTMLView",
            "description": "",
            "description_tooltip": null,
            "layout": "IPY_MODEL_309ac171bc7e405081e6acf7b6330b02",
            "placeholder": "​",
            "style": "IPY_MODEL_d80625a55cb84562b033108dc9ce6723",
            "value": " 714M/714M [00:05&lt;00:00, 203MB/s]"
          }
        },
        "ca78dfe7e343453fb014f5508d291f7e": {
          "model_module": "@jupyter-widgets/base",
          "model_name": "LayoutModel",
          "model_module_version": "1.2.0",
          "state": {
            "_model_module": "@jupyter-widgets/base",
            "_model_module_version": "1.2.0",
            "_model_name": "LayoutModel",
            "_view_count": null,
            "_view_module": "@jupyter-widgets/base",
            "_view_module_version": "1.2.0",
            "_view_name": "LayoutView",
            "align_content": null,
            "align_items": null,
            "align_self": null,
            "border": null,
            "bottom": null,
            "display": null,
            "flex": null,
            "flex_flow": null,
            "grid_area": null,
            "grid_auto_columns": null,
            "grid_auto_flow": null,
            "grid_auto_rows": null,
            "grid_column": null,
            "grid_gap": null,
            "grid_row": null,
            "grid_template_areas": null,
            "grid_template_columns": null,
            "grid_template_rows": null,
            "height": null,
            "justify_content": null,
            "justify_items": null,
            "left": null,
            "margin": null,
            "max_height": null,
            "max_width": null,
            "min_height": null,
            "min_width": null,
            "object_fit": null,
            "object_position": null,
            "order": null,
            "overflow": null,
            "overflow_x": null,
            "overflow_y": null,
            "padding": null,
            "right": null,
            "top": null,
            "visibility": null,
            "width": null
          }
        },
        "a44092188dfe4332a40c4c9296daa790": {
          "model_module": "@jupyter-widgets/base",
          "model_name": "LayoutModel",
          "model_module_version": "1.2.0",
          "state": {
            "_model_module": "@jupyter-widgets/base",
            "_model_module_version": "1.2.0",
            "_model_name": "LayoutModel",
            "_view_count": null,
            "_view_module": "@jupyter-widgets/base",
            "_view_module_version": "1.2.0",
            "_view_name": "LayoutView",
            "align_content": null,
            "align_items": null,
            "align_self": null,
            "border": null,
            "bottom": null,
            "display": null,
            "flex": null,
            "flex_flow": null,
            "grid_area": null,
            "grid_auto_columns": null,
            "grid_auto_flow": null,
            "grid_auto_rows": null,
            "grid_column": null,
            "grid_gap": null,
            "grid_row": null,
            "grid_template_areas": null,
            "grid_template_columns": null,
            "grid_template_rows": null,
            "height": null,
            "justify_content": null,
            "justify_items": null,
            "left": null,
            "margin": null,
            "max_height": null,
            "max_width": null,
            "min_height": null,
            "min_width": null,
            "object_fit": null,
            "object_position": null,
            "order": null,
            "overflow": null,
            "overflow_x": null,
            "overflow_y": null,
            "padding": null,
            "right": null,
            "top": null,
            "visibility": null,
            "width": null
          }
        },
        "904207b17de145d086d1b56470770dfb": {
          "model_module": "@jupyter-widgets/controls",
          "model_name": "DescriptionStyleModel",
          "model_module_version": "1.5.0",
          "state": {
            "_model_module": "@jupyter-widgets/controls",
            "_model_module_version": "1.5.0",
            "_model_name": "DescriptionStyleModel",
            "_view_count": null,
            "_view_module": "@jupyter-widgets/base",
            "_view_module_version": "1.2.0",
            "_view_name": "StyleView",
            "description_width": ""
          }
        },
        "e97f4a9159d0476e9f40781b29787f5d": {
          "model_module": "@jupyter-widgets/base",
          "model_name": "LayoutModel",
          "model_module_version": "1.2.0",
          "state": {
            "_model_module": "@jupyter-widgets/base",
            "_model_module_version": "1.2.0",
            "_model_name": "LayoutModel",
            "_view_count": null,
            "_view_module": "@jupyter-widgets/base",
            "_view_module_version": "1.2.0",
            "_view_name": "LayoutView",
            "align_content": null,
            "align_items": null,
            "align_self": null,
            "border": null,
            "bottom": null,
            "display": null,
            "flex": null,
            "flex_flow": null,
            "grid_area": null,
            "grid_auto_columns": null,
            "grid_auto_flow": null,
            "grid_auto_rows": null,
            "grid_column": null,
            "grid_gap": null,
            "grid_row": null,
            "grid_template_areas": null,
            "grid_template_columns": null,
            "grid_template_rows": null,
            "height": null,
            "justify_content": null,
            "justify_items": null,
            "left": null,
            "margin": null,
            "max_height": null,
            "max_width": null,
            "min_height": null,
            "min_width": null,
            "object_fit": null,
            "object_position": null,
            "order": null,
            "overflow": null,
            "overflow_x": null,
            "overflow_y": null,
            "padding": null,
            "right": null,
            "top": null,
            "visibility": null,
            "width": null
          }
        },
        "1739fec26fe945b98131799a2f292884": {
          "model_module": "@jupyter-widgets/controls",
          "model_name": "ProgressStyleModel",
          "model_module_version": "1.5.0",
          "state": {
            "_model_module": "@jupyter-widgets/controls",
            "_model_module_version": "1.5.0",
            "_model_name": "ProgressStyleModel",
            "_view_count": null,
            "_view_module": "@jupyter-widgets/base",
            "_view_module_version": "1.2.0",
            "_view_name": "StyleView",
            "bar_color": null,
            "description_width": ""
          }
        },
        "309ac171bc7e405081e6acf7b6330b02": {
          "model_module": "@jupyter-widgets/base",
          "model_name": "LayoutModel",
          "model_module_version": "1.2.0",
          "state": {
            "_model_module": "@jupyter-widgets/base",
            "_model_module_version": "1.2.0",
            "_model_name": "LayoutModel",
            "_view_count": null,
            "_view_module": "@jupyter-widgets/base",
            "_view_module_version": "1.2.0",
            "_view_name": "LayoutView",
            "align_content": null,
            "align_items": null,
            "align_self": null,
            "border": null,
            "bottom": null,
            "display": null,
            "flex": null,
            "flex_flow": null,
            "grid_area": null,
            "grid_auto_columns": null,
            "grid_auto_flow": null,
            "grid_auto_rows": null,
            "grid_column": null,
            "grid_gap": null,
            "grid_row": null,
            "grid_template_areas": null,
            "grid_template_columns": null,
            "grid_template_rows": null,
            "height": null,
            "justify_content": null,
            "justify_items": null,
            "left": null,
            "margin": null,
            "max_height": null,
            "max_width": null,
            "min_height": null,
            "min_width": null,
            "object_fit": null,
            "object_position": null,
            "order": null,
            "overflow": null,
            "overflow_x": null,
            "overflow_y": null,
            "padding": null,
            "right": null,
            "top": null,
            "visibility": null,
            "width": null
          }
        },
        "d80625a55cb84562b033108dc9ce6723": {
          "model_module": "@jupyter-widgets/controls",
          "model_name": "DescriptionStyleModel",
          "model_module_version": "1.5.0",
          "state": {
            "_model_module": "@jupyter-widgets/controls",
            "_model_module_version": "1.5.0",
            "_model_name": "DescriptionStyleModel",
            "_view_count": null,
            "_view_module": "@jupyter-widgets/base",
            "_view_module_version": "1.2.0",
            "_view_name": "StyleView",
            "description_width": ""
          }
        },
        "89ebf7c0713843e89b58f1c1aa4a3cc2": {
          "model_module": "@jupyter-widgets/controls",
          "model_name": "HBoxModel",
          "model_module_version": "1.5.0",
          "state": {
            "_dom_classes": [],
            "_model_module": "@jupyter-widgets/controls",
            "_model_module_version": "1.5.0",
            "_model_name": "HBoxModel",
            "_view_count": null,
            "_view_module": "@jupyter-widgets/controls",
            "_view_module_version": "1.5.0",
            "_view_name": "HBoxView",
            "box_style": "",
            "children": [
              "IPY_MODEL_ea58630234ab430ca8c847910e81d2ff",
              "IPY_MODEL_c2f297309ed94eaa8f8f60850ee46d49",
              "IPY_MODEL_c341bcbebb0644369958a91f66716220"
            ],
            "layout": "IPY_MODEL_aabf9a8e83934ee9b116d4aaab83553e"
          }
        },
        "ea58630234ab430ca8c847910e81d2ff": {
          "model_module": "@jupyter-widgets/controls",
          "model_name": "HTMLModel",
          "model_module_version": "1.5.0",
          "state": {
            "_dom_classes": [],
            "_model_module": "@jupyter-widgets/controls",
            "_model_module_version": "1.5.0",
            "_model_name": "HTMLModel",
            "_view_count": null,
            "_view_module": "@jupyter-widgets/controls",
            "_view_module_version": "1.5.0",
            "_view_name": "HTMLView",
            "description": "",
            "description_tooltip": null,
            "layout": "IPY_MODEL_ab5de3be30e44310bbb8ab9c79c617f6",
            "placeholder": "​",
            "style": "IPY_MODEL_2dca5390ec0c42ccb95a339533ca78a7",
            "value": "model.safetensors: 100%"
          }
        },
        "c2f297309ed94eaa8f8f60850ee46d49": {
          "model_module": "@jupyter-widgets/controls",
          "model_name": "FloatProgressModel",
          "model_module_version": "1.5.0",
          "state": {
            "_dom_classes": [],
            "_model_module": "@jupyter-widgets/controls",
            "_model_module_version": "1.5.0",
            "_model_name": "FloatProgressModel",
            "_view_count": null,
            "_view_module": "@jupyter-widgets/controls",
            "_view_module_version": "1.5.0",
            "_view_name": "ProgressView",
            "bar_style": "success",
            "description": "",
            "description_tooltip": null,
            "layout": "IPY_MODEL_75a03bb68ea9418184e2e54dee4b5330",
            "max": 714295028,
            "min": 0,
            "orientation": "horizontal",
            "style": "IPY_MODEL_63385bf060654b3fa76b6b115781680d",
            "value": 714295028
          }
        },
        "c341bcbebb0644369958a91f66716220": {
          "model_module": "@jupyter-widgets/controls",
          "model_name": "HTMLModel",
          "model_module_version": "1.5.0",
          "state": {
            "_dom_classes": [],
            "_model_module": "@jupyter-widgets/controls",
            "_model_module_version": "1.5.0",
            "_model_name": "HTMLModel",
            "_view_count": null,
            "_view_module": "@jupyter-widgets/controls",
            "_view_module_version": "1.5.0",
            "_view_name": "HTMLView",
            "description": "",
            "description_tooltip": null,
            "layout": "IPY_MODEL_fd919dea9e1242e28628b20137be4281",
            "placeholder": "​",
            "style": "IPY_MODEL_24b6785ea2bf43a2a400a38d2319e08b",
            "value": " 714M/714M [00:04&lt;00:00, 259MB/s]"
          }
        },
        "aabf9a8e83934ee9b116d4aaab83553e": {
          "model_module": "@jupyter-widgets/base",
          "model_name": "LayoutModel",
          "model_module_version": "1.2.0",
          "state": {
            "_model_module": "@jupyter-widgets/base",
            "_model_module_version": "1.2.0",
            "_model_name": "LayoutModel",
            "_view_count": null,
            "_view_module": "@jupyter-widgets/base",
            "_view_module_version": "1.2.0",
            "_view_name": "LayoutView",
            "align_content": null,
            "align_items": null,
            "align_self": null,
            "border": null,
            "bottom": null,
            "display": null,
            "flex": null,
            "flex_flow": null,
            "grid_area": null,
            "grid_auto_columns": null,
            "grid_auto_flow": null,
            "grid_auto_rows": null,
            "grid_column": null,
            "grid_gap": null,
            "grid_row": null,
            "grid_template_areas": null,
            "grid_template_columns": null,
            "grid_template_rows": null,
            "height": null,
            "justify_content": null,
            "justify_items": null,
            "left": null,
            "margin": null,
            "max_height": null,
            "max_width": null,
            "min_height": null,
            "min_width": null,
            "object_fit": null,
            "object_position": null,
            "order": null,
            "overflow": null,
            "overflow_x": null,
            "overflow_y": null,
            "padding": null,
            "right": null,
            "top": null,
            "visibility": null,
            "width": null
          }
        },
        "ab5de3be30e44310bbb8ab9c79c617f6": {
          "model_module": "@jupyter-widgets/base",
          "model_name": "LayoutModel",
          "model_module_version": "1.2.0",
          "state": {
            "_model_module": "@jupyter-widgets/base",
            "_model_module_version": "1.2.0",
            "_model_name": "LayoutModel",
            "_view_count": null,
            "_view_module": "@jupyter-widgets/base",
            "_view_module_version": "1.2.0",
            "_view_name": "LayoutView",
            "align_content": null,
            "align_items": null,
            "align_self": null,
            "border": null,
            "bottom": null,
            "display": null,
            "flex": null,
            "flex_flow": null,
            "grid_area": null,
            "grid_auto_columns": null,
            "grid_auto_flow": null,
            "grid_auto_rows": null,
            "grid_column": null,
            "grid_gap": null,
            "grid_row": null,
            "grid_template_areas": null,
            "grid_template_columns": null,
            "grid_template_rows": null,
            "height": null,
            "justify_content": null,
            "justify_items": null,
            "left": null,
            "margin": null,
            "max_height": null,
            "max_width": null,
            "min_height": null,
            "min_width": null,
            "object_fit": null,
            "object_position": null,
            "order": null,
            "overflow": null,
            "overflow_x": null,
            "overflow_y": null,
            "padding": null,
            "right": null,
            "top": null,
            "visibility": null,
            "width": null
          }
        },
        "2dca5390ec0c42ccb95a339533ca78a7": {
          "model_module": "@jupyter-widgets/controls",
          "model_name": "DescriptionStyleModel",
          "model_module_version": "1.5.0",
          "state": {
            "_model_module": "@jupyter-widgets/controls",
            "_model_module_version": "1.5.0",
            "_model_name": "DescriptionStyleModel",
            "_view_count": null,
            "_view_module": "@jupyter-widgets/base",
            "_view_module_version": "1.2.0",
            "_view_name": "StyleView",
            "description_width": ""
          }
        },
        "75a03bb68ea9418184e2e54dee4b5330": {
          "model_module": "@jupyter-widgets/base",
          "model_name": "LayoutModel",
          "model_module_version": "1.2.0",
          "state": {
            "_model_module": "@jupyter-widgets/base",
            "_model_module_version": "1.2.0",
            "_model_name": "LayoutModel",
            "_view_count": null,
            "_view_module": "@jupyter-widgets/base",
            "_view_module_version": "1.2.0",
            "_view_name": "LayoutView",
            "align_content": null,
            "align_items": null,
            "align_self": null,
            "border": null,
            "bottom": null,
            "display": null,
            "flex": null,
            "flex_flow": null,
            "grid_area": null,
            "grid_auto_columns": null,
            "grid_auto_flow": null,
            "grid_auto_rows": null,
            "grid_column": null,
            "grid_gap": null,
            "grid_row": null,
            "grid_template_areas": null,
            "grid_template_columns": null,
            "grid_template_rows": null,
            "height": null,
            "justify_content": null,
            "justify_items": null,
            "left": null,
            "margin": null,
            "max_height": null,
            "max_width": null,
            "min_height": null,
            "min_width": null,
            "object_fit": null,
            "object_position": null,
            "order": null,
            "overflow": null,
            "overflow_x": null,
            "overflow_y": null,
            "padding": null,
            "right": null,
            "top": null,
            "visibility": null,
            "width": null
          }
        },
        "63385bf060654b3fa76b6b115781680d": {
          "model_module": "@jupyter-widgets/controls",
          "model_name": "ProgressStyleModel",
          "model_module_version": "1.5.0",
          "state": {
            "_model_module": "@jupyter-widgets/controls",
            "_model_module_version": "1.5.0",
            "_model_name": "ProgressStyleModel",
            "_view_count": null,
            "_view_module": "@jupyter-widgets/base",
            "_view_module_version": "1.2.0",
            "_view_name": "StyleView",
            "bar_color": null,
            "description_width": ""
          }
        },
        "fd919dea9e1242e28628b20137be4281": {
          "model_module": "@jupyter-widgets/base",
          "model_name": "LayoutModel",
          "model_module_version": "1.2.0",
          "state": {
            "_model_module": "@jupyter-widgets/base",
            "_model_module_version": "1.2.0",
            "_model_name": "LayoutModel",
            "_view_count": null,
            "_view_module": "@jupyter-widgets/base",
            "_view_module_version": "1.2.0",
            "_view_name": "LayoutView",
            "align_content": null,
            "align_items": null,
            "align_self": null,
            "border": null,
            "bottom": null,
            "display": null,
            "flex": null,
            "flex_flow": null,
            "grid_area": null,
            "grid_auto_columns": null,
            "grid_auto_flow": null,
            "grid_auto_rows": null,
            "grid_column": null,
            "grid_gap": null,
            "grid_row": null,
            "grid_template_areas": null,
            "grid_template_columns": null,
            "grid_template_rows": null,
            "height": null,
            "justify_content": null,
            "justify_items": null,
            "left": null,
            "margin": null,
            "max_height": null,
            "max_width": null,
            "min_height": null,
            "min_width": null,
            "object_fit": null,
            "object_position": null,
            "order": null,
            "overflow": null,
            "overflow_x": null,
            "overflow_y": null,
            "padding": null,
            "right": null,
            "top": null,
            "visibility": null,
            "width": null
          }
        },
        "24b6785ea2bf43a2a400a38d2319e08b": {
          "model_module": "@jupyter-widgets/controls",
          "model_name": "DescriptionStyleModel",
          "model_module_version": "1.5.0",
          "state": {
            "_model_module": "@jupyter-widgets/controls",
            "_model_module_version": "1.5.0",
            "_model_name": "DescriptionStyleModel",
            "_view_count": null,
            "_view_module": "@jupyter-widgets/base",
            "_view_module_version": "1.2.0",
            "_view_name": "StyleView",
            "description_width": ""
          }
        }
      }
    },
    "kaggle": {
      "accelerator": "nvidiaTeslaT4",
      "dataSources": [],
      "dockerImageVersionId": 31090,
      "isInternetEnabled": true,
      "language": "python",
      "sourceType": "notebook",
      "isGpuEnabled": true
    }
  },
  "nbformat_minor": 0,
  "nbformat": 4,
  "cells": [
    {
      "cell_type": "markdown",
      "source": [
        "# Задача.\n",
        "Обучить модель распознавания текста определять категорию текста (позитивный, негативный, нейтральный и тд.)\n",
        "0: NEUTRAL\n",
        "1: POSITIVE\n",
        "2: NEGATIVE"
      ],
      "metadata": {
        "id": "y0T8TYBDCBvV"
      }
    },
    {
      "cell_type": "code",
      "source": [
        "pip install -U datasets huggingface_hub fs"
      ],
      "metadata": {
        "id": "d-Rm723uBWR4",
        "trusted": true,
        "execution": {
          "execution_failed": "2025-07-23T11:01:20.904Z"
        }
      },
      "outputs": [],
      "execution_count": null
    },
    {
      "cell_type": "code",
      "source": [
        "from datasets import load_dataset, Dataset\n",
        "from transformers import AutoTokenizer, DataCollatorWithPadding, AutoModelForSequenceClassification, TrainingArguments, Trainer\n",
        "from sklearn.metrics import accuracy_score, f1_score, confusion_matrix, classification_report\n",
        "import numpy as np\n",
        "import pandas as pd"
      ],
      "metadata": {
        "id": "9rHnNigvlrty",
        "trusted": true,
        "execution": {
          "iopub.status.busy": "2025-07-23T11:01:40.446165Z",
          "iopub.execute_input": "2025-07-23T11:01:40.446358Z",
          "iopub.status.idle": "2025-07-23T11:02:08.552063Z",
          "shell.execute_reply.started": "2025-07-23T11:01:40.446340Z",
          "shell.execute_reply": "2025-07-23T11:02:08.551253Z"
        },
        "outputId": "76b89d18-7cd6-41ef-b49e-37cbc6870547"
      },
      "outputs": [
        {
          "name": "stderr",
          "text": "2025-07-23 11:01:51.389439: E external/local_xla/xla/stream_executor/cuda/cuda_fft.cc:477] Unable to register cuFFT factory: Attempting to register factory for plugin cuFFT when one has already been registered\nWARNING: All log messages before absl::InitializeLog() is called are written to STDERR\nE0000 00:00:1753268511.585073      36 cuda_dnn.cc:8310] Unable to register cuDNN factory: Attempting to register factory for plugin cuDNN when one has already been registered\nE0000 00:00:1753268511.641628      36 cuda_blas.cc:1418] Unable to register cuBLAS factory: Attempting to register factory for plugin cuBLAS when one has already been registered\n",
          "output_type": "stream"
        }
      ],
      "execution_count": null
    },
    {
      "cell_type": "code",
      "source": [
        "ds = load_dataset(\"MonoHime/ru_sentiment_dataset\")"
      ],
      "metadata": {
        "id": "lY7GAY-zl1TZ",
        "trusted": true,
        "execution": {
          "iopub.status.busy": "2025-07-23T13:20:31.737207Z",
          "iopub.execute_input": "2025-07-23T13:20:31.737749Z",
          "iopub.status.idle": "2025-07-23T13:20:32.518566Z",
          "shell.execute_reply.started": "2025-07-23T13:20:31.737721Z",
          "shell.execute_reply": "2025-07-23T13:20:32.518000Z"
        }
      },
      "outputs": [],
      "execution_count": null
    },
    {
      "cell_type": "code",
      "source": [
        "ds"
      ],
      "metadata": {
        "colab": {
          "base_uri": "https://localhost:8080/"
        },
        "id": "g84vo64wW5w-",
        "outputId": "f28ce7b7-3269-4663-f8e2-8213ffe6c38c",
        "trusted": true,
        "execution": {
          "iopub.status.busy": "2025-07-23T11:02:28.032512Z",
          "iopub.execute_input": "2025-07-23T11:02:28.033175Z",
          "iopub.status.idle": "2025-07-23T11:02:28.038277Z",
          "shell.execute_reply.started": "2025-07-23T11:02:28.033147Z",
          "shell.execute_reply": "2025-07-23T11:02:28.037451Z"
        }
      },
      "outputs": [
        {
          "execution_count": 5,
          "output_type": "execute_result",
          "data": {
            "text/plain": "DatasetDict({\n    train: Dataset({\n        features: ['Unnamed: 0', 'text', 'sentiment'],\n        num_rows: 189891\n    })\n    validation: Dataset({\n        features: ['Unnamed: 0', 'text', 'sentiment'],\n        num_rows: 21098\n    })\n})"
          },
          "metadata": {}
        }
      ],
      "execution_count": null
    },
    {
      "cell_type": "code",
      "source": [
        "ds = ds.remove_columns(['Unnamed: 0'])"
      ],
      "metadata": {
        "id": "89VsvROMn10b",
        "trusted": true,
        "execution": {
          "iopub.status.busy": "2025-07-23T13:20:34.840169Z",
          "iopub.execute_input": "2025-07-23T13:20:34.840425Z",
          "iopub.status.idle": "2025-07-23T13:20:34.847458Z",
          "shell.execute_reply.started": "2025-07-23T13:20:34.840408Z",
          "shell.execute_reply": "2025-07-23T13:20:34.846792Z"
        }
      },
      "outputs": [],
      "execution_count": null
    },
    {
      "cell_type": "code",
      "source": [
        "train_labels = ds['train']['sentiment']"
      ],
      "metadata": {
        "id": "J-ejbzCnXcuo",
        "trusted": true,
        "execution": {
          "iopub.status.busy": "2025-07-23T11:02:36.251902Z",
          "iopub.execute_input": "2025-07-23T11:02:36.252249Z",
          "iopub.status.idle": "2025-07-23T11:02:36.399881Z",
          "shell.execute_reply.started": "2025-07-23T11:02:36.252232Z",
          "shell.execute_reply": "2025-07-23T11:02:36.399123Z"
        }
      },
      "outputs": [],
      "execution_count": null
    },
    {
      "cell_type": "code",
      "source": [
        "from collections import Counter\n",
        "counter = Counter(train_labels)\n",
        "print(\"Баланс меток в train:\", counter)"
      ],
      "metadata": {
        "colab": {
          "base_uri": "https://localhost:8080/"
        },
        "id": "vRgq0RvhXfck",
        "outputId": "dc940c04-ae40-4e15-e200-7d8560a36862",
        "trusted": true,
        "execution": {
          "iopub.status.busy": "2025-07-23T11:02:36.400631Z",
          "iopub.execute_input": "2025-07-23T11:02:36.400930Z",
          "iopub.status.idle": "2025-07-23T11:02:36.421796Z",
          "shell.execute_reply.started": "2025-07-23T11:02:36.400904Z",
          "shell.execute_reply": "2025-07-23T11:02:36.421093Z"
        }
      },
      "outputs": [
        {
          "name": "stdout",
          "text": "Баланс меток в train: Counter({1: 90766, 2: 49798, 0: 49327})\n",
          "output_type": "stream"
        }
      ],
      "execution_count": null
    },
    {
      "cell_type": "markdown",
      "source": [
        "Наблюдается дисбаланс классов в таргете. Класс 1 в 2 раза больше остальных классов."
      ],
      "metadata": {
        "id": "NEzXMDm_oAln"
      }
    },
    {
      "cell_type": "code",
      "source": [
        "tokenizer = AutoTokenizer.from_pretrained(\"DeepPavlov/rubert-base-cased\")"
      ],
      "metadata": {
        "id": "FkgN-BoxptSL",
        "trusted": true,
        "execution": {
          "iopub.status.busy": "2025-07-23T11:02:36.423219Z",
          "iopub.execute_input": "2025-07-23T11:02:36.423736Z",
          "iopub.status.idle": "2025-07-23T11:02:37.542355Z",
          "shell.execute_reply.started": "2025-07-23T11:02:36.423719Z",
          "shell.execute_reply": "2025-07-23T11:02:37.541556Z"
        },
        "outputId": "6c98c4ab-0e89-4f00-cd0b-d98fc2529d14",
        "colab": {
          "referenced_widgets": [
            "7894bd1c24684f41bf533fb504f82798",
            "e371e7cfbfd54030ae493cee10d7a924",
            "daf0bb69552d41a4af5bf1fa40fb1c18",
            "8610091ddb01496c852db0e0d8dc210a"
          ]
        }
      },
      "outputs": [
        {
          "output_type": "display_data",
          "data": {
            "text/plain": "tokenizer_config.json:   0%|          | 0.00/24.0 [00:00<?, ?B/s]",
            "application/vnd.jupyter.widget-view+json": {
              "version_major": 2,
              "version_minor": 0,
              "model_id": "7894bd1c24684f41bf533fb504f82798"
            }
          },
          "metadata": {}
        },
        {
          "output_type": "display_data",
          "data": {
            "text/plain": "config.json:   0%|          | 0.00/642 [00:00<?, ?B/s]",
            "application/vnd.jupyter.widget-view+json": {
              "version_major": 2,
              "version_minor": 0,
              "model_id": "e371e7cfbfd54030ae493cee10d7a924"
            }
          },
          "metadata": {}
        },
        {
          "output_type": "display_data",
          "data": {
            "text/plain": "vocab.txt: 0.00B [00:00, ?B/s]",
            "application/vnd.jupyter.widget-view+json": {
              "version_major": 2,
              "version_minor": 0,
              "model_id": "daf0bb69552d41a4af5bf1fa40fb1c18"
            }
          },
          "metadata": {}
        },
        {
          "output_type": "display_data",
          "data": {
            "text/plain": "special_tokens_map.json:   0%|          | 0.00/112 [00:00<?, ?B/s]",
            "application/vnd.jupyter.widget-view+json": {
              "version_major": 2,
              "version_minor": 0,
              "model_id": "8610091ddb01496c852db0e0d8dc210a"
            }
          },
          "metadata": {}
        }
      ],
      "execution_count": null
    },
    {
      "cell_type": "code",
      "source": [
        "def tokenizer_fn(batch):\n",
        "  return tokenizer(batch['text'], padding='max_length', truncation=True, max_length=128)"
      ],
      "metadata": {
        "id": "fUBGJmCAqq3v",
        "trusted": true,
        "execution": {
          "iopub.status.busy": "2025-07-23T11:02:37.543254Z",
          "iopub.execute_input": "2025-07-23T11:02:37.543492Z",
          "iopub.status.idle": "2025-07-23T11:02:37.547345Z",
          "shell.execute_reply.started": "2025-07-23T11:02:37.543473Z",
          "shell.execute_reply": "2025-07-23T11:02:37.546557Z"
        }
      },
      "outputs": [],
      "execution_count": null
    },
    {
      "cell_type": "code",
      "source": [
        "ds = ds.map(\n",
        "    tokenizer_fn,\n",
        "    batched=True,\n",
        ")"
      ],
      "metadata": {
        "colab": {
          "base_uri": "https://localhost:8080/",
          "height": 81,
          "referenced_widgets": [
            "b98a6d25852249a6966b5b24e1c23034",
            "a9ee5365c7c14fd399663fa0e71138c6",
            "4a2cc15ab2904a97a20ee39827b32e3e",
            "2fed09ada0f54f7d9e11781605070b0a",
            "84210af594504880a39bd7dc5acf316c",
            "1727796805a94320a76efbda40dfbcd9",
            "96a8c5be497440589b3d4a981a6121d3",
            "4a30619cb67a4b248158c11765f9d57d",
            "74b2f34c26b749e6a7fe727bd2c38cc6",
            "ae98c88fa1704f2780b177319b0bab28",
            "e6f0ad05644042d8bc83623ca5fc264a",
            "e0384f5c2ad94642bae30092f2d45785",
            "dd0bb45f63b9426b995ee11eba7b157f",
            "a45246ee21574434820a79b26859b76e",
            "3d3771bdd04b423ea18c26adedc14b4f",
            "44c70d688ac646cdad721fff9a88cb23",
            "7ab91e842e594e2592e89dc77a87cec0",
            "b46b1bf833d94baa8d5a3d7a0759986b",
            "c69bca1baa1b4d3dbdd425ad72fc9b03",
            "369a9b3997f74ccd8aef7762dafd0d18",
            "e669cb677a8d4abfaa04869bf369a100",
            "2aa353f794d4472ea6054a1caebe715f",
            "fb332f440c544d688cb2313b8650170c",
            "dea40d3f109f4a978b7281711978d1d0"
          ]
        },
        "id": "QC95nEuFq7jQ",
        "outputId": "60281e67-54f6-47af-fce4-22a3d4b47f66",
        "trusted": true,
        "execution": {
          "iopub.status.busy": "2025-07-23T11:02:37.548213Z",
          "iopub.execute_input": "2025-07-23T11:02:37.548488Z",
          "iopub.status.idle": "2025-07-23T11:03:45.714529Z",
          "shell.execute_reply.started": "2025-07-23T11:02:37.548463Z",
          "shell.execute_reply": "2025-07-23T11:03:45.713509Z"
        }
      },
      "outputs": [
        {
          "output_type": "display_data",
          "data": {
            "text/plain": "Map:   0%|          | 0/189891 [00:00<?, ? examples/s]",
            "application/vnd.jupyter.widget-view+json": {
              "version_major": 2,
              "version_minor": 0,
              "model_id": "fb332f440c544d688cb2313b8650170c"
            }
          },
          "metadata": {}
        },
        {
          "output_type": "display_data",
          "data": {
            "text/plain": "Map:   0%|          | 0/21098 [00:00<?, ? examples/s]",
            "application/vnd.jupyter.widget-view+json": {
              "version_major": 2,
              "version_minor": 0,
              "model_id": "dea40d3f109f4a978b7281711978d1d0"
            }
          },
          "metadata": {}
        }
      ],
      "execution_count": null
    },
    {
      "cell_type": "code",
      "source": [
        "model = AutoModelForSequenceClassification.from_pretrained(\n",
        "    'DeepPavlov/rubert-base-cased',\n",
        "    num_labels=3\n",
        ")"
      ],
      "metadata": {
        "id": "j4suP50DrM4G",
        "colab": {
          "base_uri": "https://localhost:8080/",
          "height": 116,
          "referenced_widgets": [
            "3536bcccdc3f4d019024264b010cb3ed",
            "22a48144bd9b4dd384e16b9d31dcb00f",
            "d2f161c12d88487d9eaad281fdb4a8a2",
            "7c7fd2f595cc47fc8093c942e3331a14",
            "ca78dfe7e343453fb014f5508d291f7e",
            "a44092188dfe4332a40c4c9296daa790",
            "904207b17de145d086d1b56470770dfb",
            "e97f4a9159d0476e9f40781b29787f5d",
            "1739fec26fe945b98131799a2f292884",
            "309ac171bc7e405081e6acf7b6330b02",
            "d80625a55cb84562b033108dc9ce6723",
            "89ebf7c0713843e89b58f1c1aa4a3cc2",
            "ea58630234ab430ca8c847910e81d2ff",
            "c2f297309ed94eaa8f8f60850ee46d49",
            "c341bcbebb0644369958a91f66716220",
            "aabf9a8e83934ee9b116d4aaab83553e",
            "ab5de3be30e44310bbb8ab9c79c617f6",
            "2dca5390ec0c42ccb95a339533ca78a7",
            "75a03bb68ea9418184e2e54dee4b5330",
            "63385bf060654b3fa76b6b115781680d",
            "fd919dea9e1242e28628b20137be4281",
            "24b6785ea2bf43a2a400a38d2319e08b",
            "c4b6482441cb4edaa6641a2b78ca3a6a",
            "4f4e4e60d7de449db2cabc67f9eac5e8"
          ]
        },
        "outputId": "b9f36b22-8ce9-4e4e-bdf6-3564a99359b7",
        "trusted": true,
        "execution": {
          "iopub.status.busy": "2025-07-23T11:03:45.715362Z",
          "iopub.execute_input": "2025-07-23T11:03:45.715578Z",
          "iopub.status.idle": "2025-07-23T11:03:51.423323Z",
          "shell.execute_reply.started": "2025-07-23T11:03:45.715560Z",
          "shell.execute_reply": "2025-07-23T11:03:51.422383Z"
        }
      },
      "outputs": [
        {
          "output_type": "display_data",
          "data": {
            "text/plain": "pytorch_model.bin:   0%|          | 0.00/714M [00:00<?, ?B/s]",
            "application/vnd.jupyter.widget-view+json": {
              "version_major": 2,
              "version_minor": 0,
              "model_id": "c4b6482441cb4edaa6641a2b78ca3a6a"
            }
          },
          "metadata": {}
        },
        {
          "output_type": "display_data",
          "data": {
            "text/plain": "model.safetensors:   0%|          | 0.00/714M [00:00<?, ?B/s]",
            "application/vnd.jupyter.widget-view+json": {
              "version_major": 2,
              "version_minor": 0,
              "model_id": "4f4e4e60d7de449db2cabc67f9eac5e8"
            }
          },
          "metadata": {}
        },
        {
          "name": "stderr",
          "text": "Some weights of BertForSequenceClassification were not initialized from the model checkpoint at DeepPavlov/rubert-base-cased and are newly initialized: ['classifier.bias', 'classifier.weight']\nYou should probably TRAIN this model on a down-stream task to be able to use it for predictions and inference.\n",
          "output_type": "stream"
        }
      ],
      "execution_count": null
    },
    {
      "cell_type": "code",
      "source": [
        "ds = ds.rename_column(\"sentiment\", \"labels\")"
      ],
      "metadata": {
        "id": "788c2c0b",
        "trusted": true,
        "execution": {
          "iopub.status.busy": "2025-07-23T13:20:59.518130Z",
          "iopub.execute_input": "2025-07-23T13:20:59.518407Z",
          "iopub.status.idle": "2025-07-23T13:20:59.525703Z",
          "shell.execute_reply.started": "2025-07-23T13:20:59.518385Z",
          "shell.execute_reply": "2025-07-23T13:20:59.525023Z"
        }
      },
      "outputs": [],
      "execution_count": null
    },
    {
      "cell_type": "code",
      "source": [
        "ds"
      ],
      "metadata": {
        "colab": {
          "base_uri": "https://localhost:8080/"
        },
        "id": "5n5mHBOGeoDF",
        "outputId": "8631c15e-cf00-40ab-a2c1-af95c3880c16",
        "trusted": true,
        "execution": {
          "iopub.status.busy": "2025-07-23T11:03:51.440080Z",
          "iopub.execute_input": "2025-07-23T11:03:51.440460Z",
          "iopub.status.idle": "2025-07-23T11:03:51.446242Z",
          "shell.execute_reply.started": "2025-07-23T11:03:51.440442Z",
          "shell.execute_reply": "2025-07-23T11:03:51.445353Z"
        }
      },
      "outputs": [
        {
          "execution_count": 14,
          "output_type": "execute_result",
          "data": {
            "text/plain": "DatasetDict({\n    train: Dataset({\n        features: ['labels', 'input_ids', 'token_type_ids', 'attention_mask'],\n        num_rows: 189891\n    })\n    validation: Dataset({\n        features: ['labels', 'input_ids', 'token_type_ids', 'attention_mask'],\n        num_rows: 21098\n    })\n})"
          },
          "metadata": {}
        }
      ],
      "execution_count": null
    },
    {
      "cell_type": "code",
      "source": [
        "def compute_metrics(pred):\n",
        "  logits, labels = pred\n",
        "  preds = np.argmax(logits, axis=-1)\n",
        "  f1 = f1_score(labels, preds, average='weighted')\n",
        "  acc = accuracy_score(labels, preds)\n",
        "  return {'accuracy': acc, 'f1': f1}"
      ],
      "metadata": {
        "id": "SEQz1H5KaYpI",
        "trusted": true,
        "execution": {
          "iopub.status.busy": "2025-07-23T11:03:51.447080Z",
          "iopub.execute_input": "2025-07-23T11:03:51.447338Z",
          "iopub.status.idle": "2025-07-23T11:03:51.455647Z",
          "shell.execute_reply.started": "2025-07-23T11:03:51.447314Z",
          "shell.execute_reply": "2025-07-23T11:03:51.454873Z"
        }
      },
      "outputs": [],
      "execution_count": null
    },
    {
      "cell_type": "code",
      "source": [
        "training_args = TrainingArguments(\n",
        "    output_dir='./results',\n",
        "    num_train_epochs=3,\n",
        "    per_device_train_batch_size=80,\n",
        "    per_device_eval_batch_size=64,\n",
        "    learning_rate = 2e-5,\n",
        "    weight_decay = 0.01,\n",
        "    do_train=True,                     # включить тренировку\n",
        "    do_eval=True,                      # включить валидацию\n",
        "    eval_strategy = 'epoch',\n",
        "    save_strategy = 'epoch',\n",
        "    load_best_model_at_end = True,\n",
        "    metric_for_best_model = 'f1',\n",
        "    logging_dir = './logs',\n",
        "    logging_steps = 100,\n",
        "    report_to=\"none\"\n",
        ")\n"
      ],
      "metadata": {
        "id": "y_WFvFLzalzu",
        "trusted": true,
        "execution": {
          "iopub.status.busy": "2025-07-23T11:03:51.456738Z",
          "iopub.execute_input": "2025-07-23T11:03:51.457006Z",
          "iopub.status.idle": "2025-07-23T11:03:51.501400Z",
          "shell.execute_reply.started": "2025-07-23T11:03:51.456983Z",
          "shell.execute_reply": "2025-07-23T11:03:51.500184Z"
        }
      },
      "outputs": [],
      "execution_count": null
    },
    {
      "cell_type": "code",
      "source": [
        "trainer = Trainer(\n",
        "    model=model,\n",
        "    args=training_args,\n",
        "    train_dataset=ds['train'],\n",
        "    eval_dataset=ds['validation'],\n",
        "    compute_metrics=compute_metrics,\n",
        "    tokenizer=tokenizer\n",
        ")"
      ],
      "metadata": {
        "colab": {
          "base_uri": "https://localhost:8080/"
        },
        "id": "cA7ca7HrauRC",
        "outputId": "f0de2b50-f82b-42be-82e6-bbb898ce6b28",
        "trusted": true,
        "execution": {
          "iopub.status.busy": "2025-07-23T11:03:51.502716Z",
          "iopub.execute_input": "2025-07-23T11:03:51.503007Z",
          "iopub.status.idle": "2025-07-23T11:03:51.983379Z",
          "shell.execute_reply.started": "2025-07-23T11:03:51.502988Z",
          "shell.execute_reply": "2025-07-23T11:03:51.982397Z"
        }
      },
      "outputs": [
        {
          "name": "stderr",
          "text": "/tmp/ipykernel_36/1293994961.py:1: FutureWarning: `tokenizer` is deprecated and will be removed in version 5.0.0 for `Trainer.__init__`. Use `processing_class` instead.\n  trainer = Trainer(\n",
          "output_type": "stream"
        }
      ],
      "execution_count": null
    },
    {
      "cell_type": "code",
      "source": [
        "trainer.train()"
      ],
      "metadata": {
        "colab": {
          "base_uri": "https://localhost:8080/",
          "height": 345
        },
        "id": "qD_Zgkq-a5gz",
        "outputId": "86d9d3ea-f02a-4316-cc7c-6c125c81d66f",
        "trusted": true,
        "execution": {
          "iopub.status.busy": "2025-07-23T11:03:51.984436Z",
          "iopub.execute_input": "2025-07-23T11:03:51.984791Z",
          "iopub.status.idle": "2025-07-23T13:06:29.388074Z",
          "shell.execute_reply.started": "2025-07-23T11:03:51.984772Z",
          "shell.execute_reply": "2025-07-23T13:06:29.387446Z"
        }
      },
      "outputs": [
        {
          "name": "stderr",
          "text": "/usr/local/lib/python3.11/dist-packages/torch/nn/parallel/_functions.py:70: UserWarning: Was asked to gather along dimension 0, but all input tensors were scalars; will instead unsqueeze and return a vector.\n  warnings.warn(\n",
          "output_type": "stream"
        },
        {
          "output_type": "display_data",
          "data": {
            "text/plain": "<IPython.core.display.HTML object>",
            "text/html": "\n    <div>\n      \n      <progress value='3561' max='3561' style='width:300px; height:20px; vertical-align: middle;'></progress>\n      [3561/3561 2:02:33, Epoch 3/3]\n    </div>\n    <table border=\"1\" class=\"dataframe\">\n  <thead>\n <tr style=\"text-align: left;\">\n      <th>Epoch</th>\n      <th>Training Loss</th>\n      <th>Validation Loss</th>\n      <th>Accuracy</th>\n      <th>F1</th>\n    </tr>\n  </thead>\n  <tbody>\n    <tr>\n      <td>1</td>\n      <td>0.461900</td>\n      <td>0.441614</td>\n      <td>0.799744</td>\n      <td>0.797392</td>\n    </tr>\n    <tr>\n      <td>2</td>\n      <td>0.385300</td>\n      <td>0.435169</td>\n      <td>0.806001</td>\n      <td>0.805421</td>\n    </tr>\n    <tr>\n      <td>3</td>\n      <td>0.327300</td>\n      <td>0.441575</td>\n      <td>0.810361</td>\n      <td>0.809699</td>\n    </tr>\n  </tbody>\n</table><p>"
          },
          "metadata": {}
        },
        {
          "name": "stderr",
          "text": "/usr/local/lib/python3.11/dist-packages/torch/nn/parallel/_functions.py:70: UserWarning: Was asked to gather along dimension 0, but all input tensors were scalars; will instead unsqueeze and return a vector.\n  warnings.warn(\n/usr/local/lib/python3.11/dist-packages/torch/nn/parallel/_functions.py:70: UserWarning: Was asked to gather along dimension 0, but all input tensors were scalars; will instead unsqueeze and return a vector.\n  warnings.warn(\n",
          "output_type": "stream"
        },
        {
          "execution_count": 18,
          "output_type": "execute_result",
          "data": {
            "text/plain": "TrainOutput(global_step=3561, training_loss=0.4151897730368036, metrics={'train_runtime': 7356.9904, 'train_samples_per_second': 77.433, 'train_steps_per_second': 0.484, 'total_flos': 3.747215250434074e+16, 'train_loss': 0.4151897730368036, 'epoch': 3.0})"
          },
          "metadata": {}
        }
      ],
      "execution_count": null
    },
    {
      "cell_type": "code",
      "source": [
        "eval_result = trainer.evaluate()\n",
        "print(eval_result)"
      ],
      "metadata": {
        "id": "mH8EK8AZa8R0",
        "trusted": true,
        "execution": {
          "iopub.status.busy": "2025-07-23T13:06:29.388781Z",
          "iopub.execute_input": "2025-07-23T13:06:29.389049Z",
          "iopub.status.idle": "2025-07-23T13:08:08.098153Z",
          "shell.execute_reply.started": "2025-07-23T13:06:29.389031Z",
          "shell.execute_reply": "2025-07-23T13:08:08.097427Z"
        },
        "outputId": "5dceb1a6-2d35-4333-ae11-ddd4c241cfd9"
      },
      "outputs": [
        {
          "name": "stderr",
          "text": "/usr/local/lib/python3.11/dist-packages/torch/nn/parallel/_functions.py:70: UserWarning: Was asked to gather along dimension 0, but all input tensors were scalars; will instead unsqueeze and return a vector.\n  warnings.warn(\n",
          "output_type": "stream"
        },
        {
          "output_type": "display_data",
          "data": {
            "text/plain": "<IPython.core.display.HTML object>",
            "text/html": ""
          },
          "metadata": {}
        },
        {
          "name": "stdout",
          "text": "{'eval_loss': 0.4415748417377472, 'eval_accuracy': 0.8103611716750403, 'eval_f1': 0.8096994428349495, 'eval_runtime': 98.7006, 'eval_samples_per_second': 213.758, 'eval_steps_per_second': 1.672, 'epoch': 3.0}\n",
          "output_type": "stream"
        }
      ],
      "execution_count": null
    },
    {
      "cell_type": "code",
      "source": [
        "pred_output = trainer.predict(ds['validation'])\n",
        "logits = pred_output.predictions\n",
        "preds = np.argmax(logits, axis = -1)\n",
        "true_labels = pred_output.label_ids"
      ],
      "metadata": {
        "trusted": true,
        "execution": {
          "iopub.status.busy": "2025-07-23T13:09:24.718408Z",
          "iopub.execute_input": "2025-07-23T13:09:24.719063Z",
          "iopub.status.idle": "2025-07-23T13:11:04.027039Z",
          "shell.execute_reply.started": "2025-07-23T13:09:24.719014Z",
          "shell.execute_reply": "2025-07-23T13:11:04.026496Z"
        },
        "id": "RfW7QqGY90cH"
      },
      "outputs": [],
      "execution_count": null
    },
    {
      "cell_type": "code",
      "source": [
        "print(classification_report(true_labels, preds, digits = 4))"
      ],
      "metadata": {
        "trusted": true,
        "execution": {
          "iopub.status.busy": "2025-07-23T13:11:10.248202Z",
          "iopub.execute_input": "2025-07-23T13:11:10.248499Z",
          "iopub.status.idle": "2025-07-23T13:11:10.264584Z",
          "shell.execute_reply.started": "2025-07-23T13:11:10.248477Z",
          "shell.execute_reply": "2025-07-23T13:11:10.264003Z"
        },
        "id": "vahy8GkX90cH",
        "outputId": "f134b293-9dc6-44a9-f054-685cc0f7cbe1"
      },
      "outputs": [
        {
          "name": "stdout",
          "text": "              precision    recall  f1-score   support\n\n           0     0.7141    0.6872    0.7004      5560\n           1     0.8290    0.8600    0.8442     10026\n           2     0.8704    0.8443    0.8572      5512\n\n    accuracy                         0.8104     21098\n   macro avg     0.8045    0.7972    0.8006     21098\nweighted avg     0.8095    0.8104    0.8097     21098\n\n",
          "output_type": "stream"
        }
      ],
      "execution_count": null
    },
    {
      "cell_type": "code",
      "source": [
        "from sklearn.metrics import confusion_matrix\n",
        "import seaborn as sns\n",
        "import matplotlib.pyplot as plt"
      ],
      "metadata": {
        "trusted": true,
        "execution": {
          "iopub.status.busy": "2025-07-23T13:11:35.898874Z",
          "iopub.execute_input": "2025-07-23T13:11:35.899358Z",
          "iopub.status.idle": "2025-07-23T13:11:36.098704Z",
          "shell.execute_reply.started": "2025-07-23T13:11:35.899333Z",
          "shell.execute_reply": "2025-07-23T13:11:36.098123Z"
        },
        "id": "KvRQA6Qv90cI"
      },
      "outputs": [],
      "execution_count": null
    },
    {
      "cell_type": "code",
      "source": [
        "cm = confusion_matrix(true_labels, preds)\n",
        "sns.heatmap(cm, annot=True, fmt='d', cmap = 'Blues')\n",
        "plt.xlabel('Predicted')\n",
        "plt.ylabel('True')\n",
        "plt.show()"
      ],
      "metadata": {
        "trusted": true,
        "execution": {
          "iopub.status.busy": "2025-07-23T13:11:38.625362Z",
          "iopub.execute_input": "2025-07-23T13:11:38.626187Z",
          "iopub.status.idle": "2025-07-23T13:11:38.910513Z",
          "shell.execute_reply.started": "2025-07-23T13:11:38.626162Z",
          "shell.execute_reply": "2025-07-23T13:11:38.909830Z"
        },
        "id": "_cLnRP8S90cI",
        "outputId": "cf0d63b5-660a-4921-9087-ea8bcfb47e37"
      },
      "outputs": [
        {
          "output_type": "display_data",
          "data": {
            "text/plain": "<Figure size 640x480 with 2 Axes>",
            "image/png": "[encoded data removed]"
          },
          "metadata": {}
        }
      ],
      "execution_count": null
    },
    {
      "cell_type": "code",
      "source": [
        "trainer.save_model(\"./results/best_model\")      # сохраняет config.json, pytorch_model.bin и т.п.\n",
        "\n",
        "# 6.2 Сохраняем токенизатор\n",
        "tokenizer.save_pretrained(\"./results/best_model\")"
      ],
      "metadata": {
        "trusted": true,
        "execution": {
          "iopub.status.busy": "2025-07-23T13:13:15.538051Z",
          "iopub.execute_input": "2025-07-23T13:13:15.538803Z",
          "iopub.status.idle": "2025-07-23T13:13:17.983219Z",
          "shell.execute_reply.started": "2025-07-23T13:13:15.538768Z",
          "shell.execute_reply": "2025-07-23T13:13:17.982385Z"
        },
        "id": "94cNdhPw90cI",
        "outputId": "9de99608-bb1a-4604-d421-92a77d2b7340"
      },
      "outputs": [
        {
          "execution_count": 30,
          "output_type": "execute_result",
          "data": {
            "text/plain": "('./results/best_model/tokenizer_config.json',\n './results/best_model/special_tokens_map.json',\n './results/best_model/vocab.txt',\n './results/best_model/added_tokens.json',\n './results/best_model/tokenizer.json')"
          },
          "metadata": {}
        }
      ],
      "execution_count": null
    },
    {
      "cell_type": "code",
      "source": [
        "from transformers import pipeline"
      ],
      "metadata": {
        "trusted": true,
        "execution": {
          "iopub.status.busy": "2025-07-23T13:12:34.889541Z",
          "iopub.execute_input": "2025-07-23T13:12:34.890123Z",
          "iopub.status.idle": "2025-07-23T13:12:35.126125Z",
          "shell.execute_reply.started": "2025-07-23T13:12:34.890101Z",
          "shell.execute_reply": "2025-07-23T13:12:35.125582Z"
        },
        "id": "Hdya5IdP90cI"
      },
      "outputs": [],
      "execution_count": null
    },
    {
      "cell_type": "code",
      "source": [
        "classifier = pipeline(\n",
        "    'text-classification',            # <-- здесь дефис!\n",
        "    model='./results/best_model',      # папка, где лежат pytorch_model.bin и config.json\n",
        "    tokenizer='./results/best_model'   # обычно та же папка, что и модель\n",
        ")"
      ],
      "metadata": {
        "trusted": true,
        "execution": {
          "iopub.status.busy": "2025-07-23T13:14:51.126792Z",
          "iopub.execute_input": "2025-07-23T13:14:51.127072Z",
          "iopub.status.idle": "2025-07-23T13:14:51.605833Z",
          "shell.execute_reply.started": "2025-07-23T13:14:51.127052Z",
          "shell.execute_reply": "2025-07-23T13:14:51.605222Z"
        },
        "id": "Md4oT-l390cI",
        "outputId": "752f979e-6852-44c0-a260-b5695e360b35"
      },
      "outputs": [
        {
          "name": "stderr",
          "text": "Device set to use cuda:0\n",
          "output_type": "stream"
        }
      ],
      "execution_count": null
    },
    {
      "cell_type": "code",
      "source": [
        "ds"
      ],
      "metadata": {
        "trusted": true,
        "execution": {
          "iopub.status.busy": "2025-07-23T13:21:12.430294Z",
          "iopub.execute_input": "2025-07-23T13:21:12.431199Z",
          "iopub.status.idle": "2025-07-23T13:21:12.435696Z",
          "shell.execute_reply.started": "2025-07-23T13:21:12.431174Z",
          "shell.execute_reply": "2025-07-23T13:21:12.435098Z"
        },
        "id": "c0Y2ldfK90cI",
        "outputId": "09eea7d7-cf55-423d-f882-c18e7a5be96e"
      },
      "outputs": [
        {
          "execution_count": 52,
          "output_type": "execute_result",
          "data": {
            "text/plain": "DatasetDict({\n    train: Dataset({\n        features: ['text', 'labels'],\n        num_rows: 189891\n    })\n    validation: Dataset({\n        features: ['text', 'labels'],\n        num_rows: 21098\n    })\n})"
          },
          "metadata": {}
        }
      ],
      "execution_count": null
    },
    {
      "cell_type": "code",
      "source": [
        "examples = ds['validation'].select(range(5))\n",
        "\n",
        "rows = []\n",
        "\n",
        "for ex in examples:\n",
        "    text = ex['text']\n",
        "    pred = classifier(text)[0]\n",
        "    rows.append({\n",
        "        'text': text,\n",
        "        'label_true': ex['labels'],\n",
        "        'label_pred': pred['label'],\n",
        "        'score': pred['score']\n",
        "    })\n",
        "\n",
        "df_result = pd.DataFrame(rows)\n"
      ],
      "metadata": {
        "trusted": true,
        "execution": {
          "iopub.status.busy": "2025-07-23T13:21:19.109687Z",
          "iopub.execute_input": "2025-07-23T13:21:19.109986Z",
          "iopub.status.idle": "2025-07-23T13:21:19.192867Z",
          "shell.execute_reply.started": "2025-07-23T13:21:19.109963Z",
          "shell.execute_reply": "2025-07-23T13:21:19.192274Z"
        },
        "id": "6McGBGVd90cJ",
        "outputId": "14a662e1-cf0e-4773-9b35-f770b4815a81"
      },
      "outputs": [
        {
          "name": "stderr",
          "text": "You seem to be using the pipelines sequentially on GPU. In order to maximize efficiency please use a dataset\n",
          "output_type": "stream"
        }
      ],
      "execution_count": null
    },
    {
      "cell_type": "code",
      "source": [
        "df_result.head()"
      ],
      "metadata": {
        "trusted": true,
        "execution": {
          "iopub.status.busy": "2025-07-23T13:21:26.575212Z",
          "iopub.execute_input": "2025-07-23T13:21:26.575765Z",
          "iopub.status.idle": "2025-07-23T13:21:26.594225Z",
          "shell.execute_reply.started": "2025-07-23T13:21:26.575741Z",
          "shell.execute_reply": "2025-07-23T13:21:26.593652Z"
        },
        "id": "7QkA7uE290cJ",
        "outputId": "54e892af-9380-4cc8-b7e4-ea4e34b81391"
      },
      "outputs": [
        {
          "execution_count": 54,
          "output_type": "execute_result",
          "data": {
            "text/plain": "                                                text  label_true label_pred  \\\n0  Развода на деньги нет Наблюдаюсь в Лайфклиник ...           1    LABEL_2   \n1  Отель выбрали потому что рядом со стадионом. О...           0    LABEL_1   \n2  Вылечили Гноился с рождения глазик, в поликлин...           1    LABEL_1   \n3  Хорошее расположение.С вокзала дошли пешком.Но...           0    LABEL_0   \n4  Отличное месторасположение,прекрасный вид,особ...           1    LABEL_1   \n\n      score  \n0  0.942853  \n1  0.550645  \n2  0.998829  \n3  0.979015  \n4  0.877908  ",
            "text/html": "<div>\n<style scoped>\n    .dataframe tbody tr th:only-of-type {\n        vertical-align: middle;\n    }\n\n    .dataframe tbody tr th {\n        vertical-align: top;\n    }\n\n    .dataframe thead th {\n        text-align: right;\n    }\n</style>\n<table border=\"1\" class=\"dataframe\">\n  <thead>\n    <tr style=\"text-align: right;\">\n      <th></th>\n      <th>text</th>\n      <th>label_true</th>\n      <th>label_pred</th>\n      <th>score</th>\n    </tr>\n  </thead>\n  <tbody>\n    <tr>\n      <th>0</th>\n      <td>Развода на деньги нет Наблюдаюсь в Лайфклиник ...</td>\n      <td>1</td>\n      <td>LABEL_2</td>\n      <td>0.942853</td>\n    </tr>\n    <tr>\n      <th>1</th>\n      <td>Отель выбрали потому что рядом со стадионом. О...</td>\n      <td>0</td>\n      <td>LABEL_1</td>\n      <td>0.550645</td>\n    </tr>\n    <tr>\n      <th>2</th>\n      <td>Вылечили Гноился с рождения глазик, в поликлин...</td>\n      <td>1</td>\n      <td>LABEL_1</td>\n      <td>0.998829</td>\n    </tr>\n    <tr>\n      <th>3</th>\n      <td>Хорошее расположение.С вокзала дошли пешком.Но...</td>\n      <td>0</td>\n      <td>LABEL_0</td>\n      <td>0.979015</td>\n    </tr>\n    <tr>\n      <th>4</th>\n      <td>Отличное месторасположение,прекрасный вид,особ...</td>\n      <td>1</td>\n      <td>LABEL_1</td>\n      <td>0.877908</td>\n    </tr>\n  </tbody>\n</table>\n</div>"
          },
          "metadata": {}
        }
      ],
      "execution_count": null
    },
    {
      "cell_type": "code",
      "source": [
        "custom = [\n",
        "    \"Я в восторге от этой модели!\",\n",
        "    \"Это худшее, что я когда-либо видел.\",\n",
        "    'Если честно так все равно на эти ваши модели',\n",
        "    'Жду релиз уже год. За это время можно было столько моделей придумать. ЖДУ НИ МОГУ конечно'\n",
        "]\n",
        "results = classifier(custom)\n",
        "for text, res in zip(custom, results):\n",
        "    print(f'Text: {text!r}')\n",
        "    print(f'-> Predicted: {res[\"label\"]}, (score: {res[\"score\"]:.3f})\\n')"
      ],
      "metadata": {
        "trusted": true,
        "execution": {
          "iopub.status.busy": "2025-07-23T13:26:08.633760Z",
          "iopub.execute_input": "2025-07-23T13:26:08.634359Z",
          "iopub.status.idle": "2025-07-23T13:26:08.676178Z",
          "shell.execute_reply.started": "2025-07-23T13:26:08.634337Z",
          "shell.execute_reply": "2025-07-23T13:26:08.675639Z"
        },
        "id": "grP9IlF690cJ",
        "outputId": "f3a20af8-073c-48d8-a676-1cfc0ead0993"
      },
      "outputs": [
        {
          "name": "stdout",
          "text": "Text: 'Я в восторге от этой модели!'\n-> Predicted: LABEL_1, (score: 0.802)\n\nText: 'Это худшее, что я когда-либо видел.'\n-> Predicted: LABEL_2, (score: 0.886)\n\nText: 'Если честно так все равно на эти ваши модели'\n-> Predicted: LABEL_0, (score: 0.992)\n\nText: 'Жду релиз уже год. За это время можно было столько моделей придумать. ЖДУ НИ МОГУ конечно'\n-> Predicted: LABEL_0, (score: 0.989)\n\n",
          "output_type": "stream"
        }
      ],
      "execution_count": null
    },
    {
      "cell_type": "markdown",
      "source": [
        "Наша модель довольно неплохо сработала. Средняя точность предсказания составляет 80%.\n",
        "Также мы составили несколько своих текстов для проверки работы модели, вцелом модель довольно неплохо определяет \"настроение\" текста. Удивительно, что на последнем нашем составленном тексте, модель на 96% уверена, что текст нейтрален, хотя это не так. Видимо те паттерны, которые мы использовали в тексте, модель не видела во время обучения - как негативные, отсюда и полученный результат."
      ],
      "metadata": {
        "id": "emSJAcG190cK"
      }
    },
    {
      "cell_type": "code",
      "source": [],
      "metadata": {
        "trusted": true,
        "id": "Girebaql90cL"
      },
      "outputs": [],
      "execution_count": null
    }
  ]
}