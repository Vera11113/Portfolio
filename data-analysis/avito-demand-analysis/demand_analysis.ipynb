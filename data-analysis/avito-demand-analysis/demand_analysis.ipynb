{
  "nbformat": 4,
  "nbformat_minor": 0,
  "metadata": {
    "colab": {
      "provenance": []
    },
    "kernelspec": {
      "name": "python3",
      "display_name": "Python 3"
    },
    "language_info": {
      "name": "python"
    }
  },
  "cells": [
    {
      "cell_type": "markdown",
      "source": [
        "Задача определения переменных спроса и представлении функции спроса на товар в виде зависимости от факторов:\n",
        "Q = f(P, I, A)\n",
        "где Q - спрос\n",
        "P - стоимость товара\n",
        "I - доход потребителей\n",
        "A - реклама\n",
        "\n",
        "Для решения поставленной задачи, было принято решение проанализировать площадку Авито среди конкурентов.\n",
        "\n",
        "*  Для спроса был взят показатель просмотров объявлений\n",
        "*  P - Стоимость товара - стоимость товара, которую указал продавец в объявлении\n",
        "*  I - доход потребителей, ср. доход жителей по региону, где размещено объявление\n",
        "*  A - реклама: кол-во комментариев у продавца (будем считать это рекламой продавца)"
      ],
      "metadata": {
        "id": "_twMlwYZlHDi"
      }
    },
    {
      "cell_type": "code",
      "source": [
        "import time\n",
        "import pandas as pd\n",
        "from sklearn.linear_model import LinearRegression\n",
        "import matplotlib.pyplot as plt\n",
        "import os\n",
        "from sklearn.metrics import r2_score, mean_absolute_error\n",
        "import seaborn as sns"
      ],
      "metadata": {
        "id": "GZX32jYxqTQt"
      },
      "execution_count": null,
      "outputs": []
    },
    {
      "cell_type": "code",
      "source": [
        "data = pd.read_csv('/content/ethno_jewelery.csv', index_col = None)"
      ],
      "metadata": {
        "id": "5yyqXvU2EXq9"
      },
      "execution_count": null,
      "outputs": []
    },
    {
      "cell_type": "code",
      "source": [
        "data.shape"
      ],
      "metadata": {
        "colab": {
          "base_uri": "https://localhost:8080/"
        },
        "id": "6px6GzqTSZfw",
        "outputId": "021f92f3-cb16-4d80-d63e-ab70f85f861b"
      },
      "execution_count": null,
      "outputs": [
        {
          "output_type": "execute_result",
          "data": {
            "text/plain": [
              "(367, 8)"
            ]
          },
          "metadata": {},
          "execution_count": 3
        }
      ]
    },
    {
      "cell_type": "markdown",
      "source": [
        "Данные взяты с сайта Авито по запросу \"Этно украшения\""
      ],
      "metadata": {
        "id": "mv5C4TTgh92B"
      }
    },
    {
      "cell_type": "code",
      "source": [
        "data.head()"
      ],
      "metadata": {
        "colab": {
          "base_uri": "https://localhost:8080/",
          "height": 206
        },
        "id": "3D7QGZs9J7aX",
        "outputId": "5ae71950-9fc9-4756-9650-ab2a59fba13f"
      },
      "execution_count": null,
      "outputs": [
        {
          "output_type": "execute_result",
          "data": {
            "text/plain": [
              "                                          name  price  \\\n",
              "0                               Этно украшения  150.0   \n",
              "1         Этно украшения (кольца, серьги и тд)  550.0   \n",
              "2                               Этно Бижутерия  250.0   \n",
              "3  Этно украшения и кольцо с арабской надписью  200.0   \n",
              "4                     Этно украшения на голову   50.0   \n",
              "\n",
              "                                                 url  views_cnt       city  \\\n",
              "0  https://www.avito.ru/mahachkala/chasy_i_ukrash...       4439  Махачкала   \n",
              "1  https://www.avito.ru/sibay/chasy_i_ukrasheniya...         28      Сибай   \n",
              "2  https://www.avito.ru/dagestan_kizlyar/odezhda_...         14     Кизляр   \n",
              "3  https://www.avito.ru/magas/chasy_i_ukrasheniya...        202      Магас   \n",
              "4  https://www.avito.ru/mahachkala/chasy_i_ukrash...       2725  Махачкала   \n",
              "\n",
              "           seller  seller_rating  comments_cnt  \n",
              "0           ethno            NaN           217  \n",
              "1   Алия Искужина            NaN             1  \n",
              "2           Асият            NaN             0  \n",
              "3  Хава Клематова            NaN             2  \n",
              "4          SAFIYA            NaN            50  "
            ],
            "text/html": [
              "\n",
              "  <div id=\"df-3a72b24b-bc7e-433a-9088-590545526d6a\" class=\"colab-df-container\">\n",
              "    <div>\n",
              "<style scoped>\n",
              "    .dataframe tbody tr th:only-of-type {\n",
              "        vertical-align: middle;\n",
              "    }\n",
              "\n",
              "    .dataframe tbody tr th {\n",
              "        vertical-align: top;\n",
              "    }\n",
              "\n",
              "    .dataframe thead th {\n",
              "        text-align: right;\n",
              "    }\n",
              "</style>\n",
              "<table border=\"1\" class=\"dataframe\">\n",
              "  <thead>\n",
              "    <tr style=\"text-align: right;\">\n",
              "      <th></th>\n",
              "      <th>name</th>\n",
              "      <th>price</th>\n",
              "      <th>url</th>\n",
              "      <th>views_cnt</th>\n",
              "      <th>city</th>\n",
              "      <th>seller</th>\n",
              "      <th>seller_rating</th>\n",
              "      <th>comments_cnt</th>\n",
              "    </tr>\n",
              "  </thead>\n",
              "  <tbody>\n",
              "    <tr>\n",
              "      <th>0</th>\n",
              "      <td>Этно украшения</td>\n",
              "      <td>150.0</td>\n",
              "      <td>https://www.avito.ru/mahachkala/chasy_i_ukrash...</td>\n",
              "      <td>4439</td>\n",
              "      <td>Махачкала</td>\n",
              "      <td>ethno</td>\n",
              "      <td>NaN</td>\n",
              "      <td>217</td>\n",
              "    </tr>\n",
              "    <tr>\n",
              "      <th>1</th>\n",
              "      <td>Этно украшения (кольца, серьги и тд)</td>\n",
              "      <td>550.0</td>\n",
              "      <td>https://www.avito.ru/sibay/chasy_i_ukrasheniya...</td>\n",
              "      <td>28</td>\n",
              "      <td>Сибай</td>\n",
              "      <td>Алия Искужина</td>\n",
              "      <td>NaN</td>\n",
              "      <td>1</td>\n",
              "    </tr>\n",
              "    <tr>\n",
              "      <th>2</th>\n",
              "      <td>Этно Бижутерия</td>\n",
              "      <td>250.0</td>\n",
              "      <td>https://www.avito.ru/dagestan_kizlyar/odezhda_...</td>\n",
              "      <td>14</td>\n",
              "      <td>Кизляр</td>\n",
              "      <td>Асият</td>\n",
              "      <td>NaN</td>\n",
              "      <td>0</td>\n",
              "    </tr>\n",
              "    <tr>\n",
              "      <th>3</th>\n",
              "      <td>Этно украшения и кольцо с арабской надписью</td>\n",
              "      <td>200.0</td>\n",
              "      <td>https://www.avito.ru/magas/chasy_i_ukrasheniya...</td>\n",
              "      <td>202</td>\n",
              "      <td>Магас</td>\n",
              "      <td>Хава Клематова</td>\n",
              "      <td>NaN</td>\n",
              "      <td>2</td>\n",
              "    </tr>\n",
              "    <tr>\n",
              "      <th>4</th>\n",
              "      <td>Этно украшения на голову</td>\n",
              "      <td>50.0</td>\n",
              "      <td>https://www.avito.ru/mahachkala/chasy_i_ukrash...</td>\n",
              "      <td>2725</td>\n",
              "      <td>Махачкала</td>\n",
              "      <td>SAFIYA</td>\n",
              "      <td>NaN</td>\n",
              "      <td>50</td>\n",
              "    </tr>\n",
              "  </tbody>\n",
              "</table>\n",
              "</div>\n",
              "    <div class=\"colab-df-buttons\">\n",
              "\n",
              "  <div class=\"colab-df-container\">\n",
              "    <button class=\"colab-df-convert\" onclick=\"convertToInteractive('df-3a72b24b-bc7e-433a-9088-590545526d6a')\"\n",
              "            title=\"Convert this dataframe to an interactive table.\"\n",
              "            style=\"display:none;\">\n",
              "\n",
              "  <svg xmlns=\"http://www.w3.org/2000/svg\" height=\"24px\" viewBox=\"0 -960 960 960\">\n",
              "    <path d=\"M120-120v-720h720v720H120Zm60-500h600v-160H180v160Zm220 220h160v-160H400v160Zm0 220h160v-160H400v160ZM180-400h160v-160H180v160Zm440 0h160v-160H620v160ZM180-180h160v-160H180v160Zm440 0h160v-160H620v160Z\"/>\n",
              "  </svg>\n",
              "    </button>\n",
              "\n",
              "  <style>\n",
              "    .colab-df-container {\n",
              "      display:flex;\n",
              "      gap: 12px;\n",
              "    }\n",
              "\n",
              "    .colab-df-convert {\n",
              "      background-color: #E8F0FE;\n",
              "      border: none;\n",
              "      border-radius: 50%;\n",
              "      cursor: pointer;\n",
              "      display: none;\n",
              "      fill: #1967D2;\n",
              "      height: 32px;\n",
              "      padding: 0 0 0 0;\n",
              "      width: 32px;\n",
              "    }\n",
              "\n",
              "    .colab-df-convert:hover {\n",
              "      background-color: #E2EBFA;\n",
              "      box-shadow: 0px 1px 2px rgba(60, 64, 67, 0.3), 0px 1px 3px 1px rgba(60, 64, 67, 0.15);\n",
              "      fill: #174EA6;\n",
              "    }\n",
              "\n",
              "    .colab-df-buttons div {\n",
              "      margin-bottom: 4px;\n",
              "    }\n",
              "\n",
              "    [theme=dark] .colab-df-convert {\n",
              "      background-color: #3B4455;\n",
              "      fill: #D2E3FC;\n",
              "    }\n",
              "\n",
              "    [theme=dark] .colab-df-convert:hover {\n",
              "      background-color: #434B5C;\n",
              "      box-shadow: 0px 1px 3px 1px rgba(0, 0, 0, 0.15);\n",
              "      filter: drop-shadow(0px 1px 2px rgba(0, 0, 0, 0.3));\n",
              "      fill: #FFFFFF;\n",
              "    }\n",
              "  </style>\n",
              "\n",
              "    <script>\n",
              "      const buttonEl =\n",
              "        document.querySelector('#df-3a72b24b-bc7e-433a-9088-590545526d6a button.colab-df-convert');\n",
              "      buttonEl.style.display =\n",
              "        google.colab.kernel.accessAllowed ? 'block' : 'none';\n",
              "\n",
              "      async function convertToInteractive(key) {\n",
              "        const element = document.querySelector('#df-3a72b24b-bc7e-433a-9088-590545526d6a');\n",
              "        const dataTable =\n",
              "          await google.colab.kernel.invokeFunction('convertToInteractive',\n",
              "                                                    [key], {});\n",
              "        if (!dataTable) return;\n",
              "\n",
              "        const docLinkHtml = 'Like what you see? Visit the ' +\n",
              "          '<a target=\"_blank\" href=https://colab.research.google.com/notebooks/data_table.ipynb>data table notebook</a>'\n",
              "          + ' to learn more about interactive tables.';\n",
              "        element.innerHTML = '';\n",
              "        dataTable['output_type'] = 'display_data';\n",
              "        await google.colab.output.renderOutput(dataTable, element);\n",
              "        const docLink = document.createElement('div');\n",
              "        docLink.innerHTML = docLinkHtml;\n",
              "        element.appendChild(docLink);\n",
              "      }\n",
              "    </script>\n",
              "  </div>\n",
              "\n",
              "\n",
              "<div id=\"df-2f10f4d9-ff5a-420f-8995-02746d43ec83\">\n",
              "  <button class=\"colab-df-quickchart\" onclick=\"quickchart('df-2f10f4d9-ff5a-420f-8995-02746d43ec83')\"\n",
              "            title=\"Suggest charts\"\n",
              "            style=\"display:none;\">\n",
              "\n",
              "<svg xmlns=\"http://www.w3.org/2000/svg\" height=\"24px\"viewBox=\"0 0 24 24\"\n",
              "     width=\"24px\">\n",
              "    <g>\n",
              "        <path d=\"M19 3H5c-1.1 0-2 .9-2 2v14c0 1.1.9 2 2 2h14c1.1 0 2-.9 2-2V5c0-1.1-.9-2-2-2zM9 17H7v-7h2v7zm4 0h-2V7h2v10zm4 0h-2v-4h2v4z\"/>\n",
              "    </g>\n",
              "</svg>\n",
              "  </button>\n",
              "\n",
              "<style>\n",
              "  .colab-df-quickchart {\n",
              "      --bg-color: #E8F0FE;\n",
              "      --fill-color: #1967D2;\n",
              "      --hover-bg-color: #E2EBFA;\n",
              "      --hover-fill-color: #174EA6;\n",
              "      --disabled-fill-color: #AAA;\n",
              "      --disabled-bg-color: #DDD;\n",
              "  }\n",
              "\n",
              "  [theme=dark] .colab-df-quickchart {\n",
              "      --bg-color: #3B4455;\n",
              "      --fill-color: #D2E3FC;\n",
              "      --hover-bg-color: #434B5C;\n",
              "      --hover-fill-color: #FFFFFF;\n",
              "      --disabled-bg-color: #3B4455;\n",
              "      --disabled-fill-color: #666;\n",
              "  }\n",
              "\n",
              "  .colab-df-quickchart {\n",
              "    background-color: var(--bg-color);\n",
              "    border: none;\n",
              "    border-radius: 50%;\n",
              "    cursor: pointer;\n",
              "    display: none;\n",
              "    fill: var(--fill-color);\n",
              "    height: 32px;\n",
              "    padding: 0;\n",
              "    width: 32px;\n",
              "  }\n",
              "\n",
              "  .colab-df-quickchart:hover {\n",
              "    background-color: var(--hover-bg-color);\n",
              "    box-shadow: 0 1px 2px rgba(60, 64, 67, 0.3), 0 1px 3px 1px rgba(60, 64, 67, 0.15);\n",
              "    fill: var(--button-hover-fill-color);\n",
              "  }\n",
              "\n",
              "  .colab-df-quickchart-complete:disabled,\n",
              "  .colab-df-quickchart-complete:disabled:hover {\n",
              "    background-color: var(--disabled-bg-color);\n",
              "    fill: var(--disabled-fill-color);\n",
              "    box-shadow: none;\n",
              "  }\n",
              "\n",
              "  .colab-df-spinner {\n",
              "    border: 2px solid var(--fill-color);\n",
              "    border-color: transparent;\n",
              "    border-bottom-color: var(--fill-color);\n",
              "    animation:\n",
              "      spin 1s steps(1) infinite;\n",
              "  }\n",
              "\n",
              "  @keyframes spin {\n",
              "    0% {\n",
              "      border-color: transparent;\n",
              "      border-bottom-color: var(--fill-color);\n",
              "      border-left-color: var(--fill-color);\n",
              "    }\n",
              "    20% {\n",
              "      border-color: transparent;\n",
              "      border-left-color: var(--fill-color);\n",
              "      border-top-color: var(--fill-color);\n",
              "    }\n",
              "    30% {\n",
              "      border-color: transparent;\n",
              "      border-left-color: var(--fill-color);\n",
              "      border-top-color: var(--fill-color);\n",
              "      border-right-color: var(--fill-color);\n",
              "    }\n",
              "    40% {\n",
              "      border-color: transparent;\n",
              "      border-right-color: var(--fill-color);\n",
              "      border-top-color: var(--fill-color);\n",
              "    }\n",
              "    60% {\n",
              "      border-color: transparent;\n",
              "      border-right-color: var(--fill-color);\n",
              "    }\n",
              "    80% {\n",
              "      border-color: transparent;\n",
              "      border-right-color: var(--fill-color);\n",
              "      border-bottom-color: var(--fill-color);\n",
              "    }\n",
              "    90% {\n",
              "      border-color: transparent;\n",
              "      border-bottom-color: var(--fill-color);\n",
              "    }\n",
              "  }\n",
              "</style>\n",
              "\n",
              "  <script>\n",
              "    async function quickchart(key) {\n",
              "      const quickchartButtonEl =\n",
              "        document.querySelector('#' + key + ' button');\n",
              "      quickchartButtonEl.disabled = true;  // To prevent multiple clicks.\n",
              "      quickchartButtonEl.classList.add('colab-df-spinner');\n",
              "      try {\n",
              "        const charts = await google.colab.kernel.invokeFunction(\n",
              "            'suggestCharts', [key], {});\n",
              "      } catch (error) {\n",
              "        console.error('Error during call to suggestCharts:', error);\n",
              "      }\n",
              "      quickchartButtonEl.classList.remove('colab-df-spinner');\n",
              "      quickchartButtonEl.classList.add('colab-df-quickchart-complete');\n",
              "    }\n",
              "    (() => {\n",
              "      let quickchartButtonEl =\n",
              "        document.querySelector('#df-2f10f4d9-ff5a-420f-8995-02746d43ec83 button');\n",
              "      quickchartButtonEl.style.display =\n",
              "        google.colab.kernel.accessAllowed ? 'block' : 'none';\n",
              "    })();\n",
              "  </script>\n",
              "</div>\n",
              "\n",
              "    </div>\n",
              "  </div>\n"
            ],
            "application/vnd.google.colaboratory.intrinsic+json": {
              "type": "dataframe",
              "variable_name": "data",
              "summary": "{\n  \"name\": \"data\",\n  \"rows\": 367,\n  \"fields\": [\n    {\n      \"column\": \"name\",\n      \"properties\": {\n        \"dtype\": \"category\",\n        \"num_unique_values\": 164,\n        \"samples\": [\n          \"\\u0421\\u0435\\u0440\\u044c\\u0433\\u0438 \\u044d\\u0442\\u043d\\u043e \\u0441\\u0435\\u0440\\u0435\\u0436\\u043a\\u0438\",\n          \"\\u042d\\u0442\\u043d\\u043e \\u0441\\u0435\\u0440\\u044c\\u0433\\u0438 \\u0438\\u0437 \\u0440\\u0435\\u0434\\u043a\\u043e\\u0433\\u043e \\u0430\\u0444\\u0440\\u0438\\u043a\\u0430\\u043d\\u0441\\u043a\\u043e\\u0433\\u043e \\u0434\\u0435\\u0440\\u0435\\u0432\\u0430\",\n          \"\\u0411\\u0440\\u0430\\u0441\\u043b\\u0435\\u0442 \\u0432 \\u044d\\u0442\\u043d\\u043e - \\u0441\\u0442\\u0438\\u043b\\u0435, \\u043d\\u043e\\u0432\\u044b\\u0439\"\n        ],\n        \"semantic_type\": \"\",\n        \"description\": \"\"\n      }\n    },\n    {\n      \"column\": \"price\",\n      \"properties\": {\n        \"dtype\": \"number\",\n        \"std\": 836.4281572398268,\n        \"min\": 10.0,\n        \"max\": 5000.0,\n        \"num_unique_values\": 71,\n        \"samples\": [\n          2500.0,\n          150.0,\n          799.0\n        ],\n        \"semantic_type\": \"\",\n        \"description\": \"\"\n      }\n    },\n    {\n      \"column\": \"url\",\n      \"properties\": {\n        \"dtype\": \"string\",\n        \"num_unique_values\": 367,\n        \"samples\": [\n          \"https://www.avito.ru/moskva/chasy_i_ukrasheniya/zolotoe_koltso_v_etno-stile_tayna_7214364408?context=H4sIAAAAAAAA_wEmANn_YToxOntzOjE6IngiO3M6MTY6ImxMdUZrTFlFMzJzdUhraE8iO31skGT1JgAAAA\",\n          \"https://www.avito.ru/mahachkala/chasy_i_ukrasheniya/etno_ukrasheniya_3539773894?slocation=637640&context=H4sIAAAAAAAA_wEmANn_YToxOntzOjE6IngiO3M6MTY6ImI0ZzJRZHBkYlVYdUYzVFciO32a_MFeJgAAAA\",\n          \"https://www.avito.ru/moskva/chasy_i_ukrasheniya/serebryanoe_koltso_v_etno-stile_serebryanaya_volna_4655076899?context=H4sIAAAAAAAA_wEmANn_YToxOntzOjE6IngiO3M6MTY6ImI0ZzJRZHBkYlVYdUYzVFciO32a_MFeJgAAAA\"\n        ],\n        \"semantic_type\": \"\",\n        \"description\": \"\"\n      }\n    },\n    {\n      \"column\": \"views_cnt\",\n      \"properties\": {\n        \"dtype\": \"number\",\n        \"std\": 2182,\n        \"min\": 0,\n        \"max\": 20726,\n        \"num_unique_values\": 210,\n        \"samples\": [\n          50,\n          49,\n          44\n        ],\n        \"semantic_type\": \"\",\n        \"description\": \"\"\n      }\n    },\n    {\n      \"column\": \"city\",\n      \"properties\": {\n        \"dtype\": \"category\",\n        \"num_unique_values\": 69,\n        \"samples\": [\n          \"\\u041f\\u0435\\u043d\\u0437\\u0430\",\n          \"\\u041c\\u0430\\u0445\\u0430\\u0447\\u043a\\u0430\\u043b\\u0430\",\n          \"\\u0420\\u044f\\u0437\\u0430\\u043d\\u044c\"\n        ],\n        \"semantic_type\": \"\",\n        \"description\": \"\"\n      }\n    },\n    {\n      \"column\": \"seller\",\n      \"properties\": {\n        \"dtype\": \"category\",\n        \"num_unique_values\": 141,\n        \"samples\": [\n          \"\\u0421\\u0435\\u043a\\u0440\\u0435\\u0442\\u043d\\u0430\\u044f \\u043f\\u043e\\u043b\\u043a\\u0430\",\n          \"\\u042e\\u043b\\u0438\\u0430\\u043d\\u0430\",\n          \"\\u0415\\u043a\\u0430\\u0442\\u0435\\u0440\\u0438\\u043d\\u0430\"\n        ],\n        \"semantic_type\": \"\",\n        \"description\": \"\"\n      }\n    },\n    {\n      \"column\": \"seller_rating\",\n      \"properties\": {\n        \"dtype\": \"number\",\n        \"std\": null,\n        \"min\": null,\n        \"max\": null,\n        \"num_unique_values\": 0,\n        \"samples\": [],\n        \"semantic_type\": \"\",\n        \"description\": \"\"\n      }\n    },\n    {\n      \"column\": \"comments_cnt\",\n      \"properties\": {\n        \"dtype\": \"number\",\n        \"std\": 74,\n        \"min\": 0,\n        \"max\": 476,\n        \"num_unique_values\": 80,\n        \"samples\": [],\n        \"semantic_type\": \"\",\n        \"description\": \"\"\n      }\n    }\n  ]\n}"
            }
          },
          "metadata": {},
          "execution_count": 4
        }
      ]
    },
    {
      "cell_type": "code",
      "source": [
        "data.info()"
      ],
      "metadata": {
        "colab": {
          "base_uri": "https://localhost:8080/"
        },
        "id": "pnfMfuLFSb1F",
        "outputId": "f67267ee-d8f4-4a0a-cf58-67d2d2339b08"
      },
      "execution_count": null,
      "outputs": [
        {
          "output_type": "stream",
          "name": "stdout",
          "text": [
            "<class 'pandas.core.frame.DataFrame'>\n",
            "RangeIndex: 367 entries, 0 to 366\n",
            "Data columns (total 8 columns):\n",
            " #   Column         Non-Null Count  Dtype  \n",
            "---  ------         --------------  -----  \n",
            " 0   name           367 non-null    object \n",
            " 1   price          367 non-null    float64\n",
            " 2   url            367 non-null    object \n",
            " 3   views_cnt      367 non-null    int64  \n",
            " 4   city           367 non-null    object \n",
            " 5   seller         367 non-null    object \n",
            " 6   seller_rating  0 non-null      float64\n",
            " 7   comments_cnt   367 non-null    int64  \n",
            "dtypes: float64(2), int64(2), object(4)\n",
            "memory usage: 23.1+ KB\n"
          ]
        }
      ]
    },
    {
      "cell_type": "markdown",
      "source": [
        "Одной из переменных в нашей формуле является ср. доход покупателей. Чтобы получить данный параметр, мы пропишем ср. доход по регионам. Для этого создадим словарь, где ключом будет - город, который указан в объявлении, а значением - ср. доход граждан\n",
        "Данные по цифрам взяты с ресурса: https://visasam.ru/russia/rabotavrf/zarplata-po-regionam.html"
      ],
      "metadata": {
        "id": "1MlPDHopG4cC"
      }
    },
    {
      "cell_type": "code",
      "source": [
        "cities = data.city.unique()\n",
        "average_income = {}"
      ],
      "metadata": {
        "id": "oKFFp8BhSjRz"
      },
      "execution_count": null,
      "outputs": []
    },
    {
      "cell_type": "code",
      "source": [
        "for city in cities:\n",
        "  average_income[city] = 0"
      ],
      "metadata": {
        "id": "YHA5732uS7h5"
      },
      "execution_count": null,
      "outputs": []
    },
    {
      "cell_type": "code",
      "source": [
        "average_income.update(dict.fromkeys([\"Махачкала\", \"Кизляр\", \"Дербент\", 'Левашинский р-н', 'Каспийск', 'Хасавюрт',\n",
        "                                     'г.о. Хасавюрт','Ахтынский р-н', 'Карабудахкентский р-н', 'Республика Дагестан, Махачкала, пр-т Али-Гаджи Акушинского'], 50845))\n",
        "average_income.update(dict.fromkeys(['Уфа', 'Сибай', 'Стерлитамак'], 66868))\n",
        "average_income.update(dict.fromkeys(['Москва'], 156427))\n",
        "average_income.update(dict.fromkeys(['Клин', 'г.о. Истра', 'Королёв', 'Химки', 'Сергиево-Посадский г.о.', 'Черноголовка', 'Московская обл., Богородский г.о., рп. Обухово, ул. Энтузиастов, 9', 'Богородский г.о., рп. Обухово'], 99934))\n",
        "average_income.update(dict.fromkeys([\"Казань\", \"Альметьевский р-н\"], 73746))\n",
        "average_income.update(dict.fromkeys([\"Санкт-Петербург\", \"Выборгский р-н\", \"Всеволожский р-н\"], 82430))\n",
        "average_income.update(dict.fromkeys([\"Ижевск\"], 67592))\n",
        "average_income.update(dict.fromkeys([\"Псков\"], 57125))\n",
        "average_income.update(dict.fromkeys([\"Воронеж\"], 63879))\n",
        "average_income.update(dict.fromkeys([\"Петрозаводский г.о.\"], 80444))\n",
        "average_income.update(dict.fromkeys([\"Смоленск\", \"Рославльский р-н\"], 61617))\n",
        "average_income.update(dict.fromkeys([\"Астрахань\", \"Астраханская обл., Астрахань, ул. Рылеева, 90\"], 64331))\n",
        "average_income.update(dict.fromkeys([\"Бахчисарайский р-н\", \"Симферополь\", \"Севастополь\"], 58730))\n",
        "average_income.update(dict.fromkeys([\"Нальчик\", \"Баксан\"], 53661))\n",
        "average_income.update(dict.fromkeys([\"Пенза\"], 57838))\n",
        "average_income.update(dict.fromkeys([\"Улан-Удэ\"], 79954))\n",
        "average_income.update(dict.fromkeys([\"Пермь\", \"Чайковский г.о.\"], 74984))\n",
        "average_income.update(dict.fromkeys([\"Екатеринбург\"], 80217))\n",
        "average_income.update(dict.fromkeys([\"Боровский р-н\", \"Сухиничский р-н\"], 74431))\n",
        "average_income.update(dict.fromkeys([\"Тамбов\"], 56543))\n",
        "average_income.update(dict.fromkeys([\"Волгоград\"], 60653))\n",
        "average_income.update(dict.fromkeys([\"Краснодар\"], 96026))\n",
        "average_income.update(dict.fromkeys([\"Тюмень\"], 86741))\n",
        "average_income.update(dict.fromkeys([\"Иваново\"], 52341))\n",
        "average_income.update(dict.fromkeys([\"Челябинск\"], 70953))\n",
        "average_income.update(dict.fromkeys([\"Кострома\"], 52761))\n",
        "average_income.update(dict.fromkeys([\"Владимир\"], 59732))\n",
        "average_income.update(dict.fromkeys([\"Архангельск\"], 74121))\n",
        "average_income.update(dict.fromkeys([\"Новомосковск\"], 63542))\n",
        "average_income.update(dict.fromkeys([\"Рязань\"], 60732))\n",
        "average_income.update(dict.fromkeys([\"Саратов\"], 57321))\n",
        "average_income.update(dict.fromkeys([\"Барнаул\"], 58341))\n",
        "average_income.update(dict.fromkeys([\"Черкесск\"], 52541))\n",
        "average_income.update(dict.fromkeys([\"Самара\", \"Сызрань\"], 70321))\n",
        "average_income.update(dict.fromkeys([\"Оренбург\", \"Соль-Илецк\"], 60452))\n",
        "average_income.update(dict.fromkeys([\"Омск\"], 65832))\n",
        "average_income.update(dict.fromkeys([\"Отрадненский р-н\"], 58241))"
      ],
      "metadata": {
        "id": "n7YptRCSUPW_"
      },
      "execution_count": null,
      "outputs": []
    },
    {
      "cell_type": "code",
      "source": [
        "data['average_income'] = data['city'].apply(lambda x: average_income[x])"
      ],
      "metadata": {
        "id": "QljmjZMYaQ6e"
      },
      "execution_count": null,
      "outputs": []
    },
    {
      "cell_type": "markdown",
      "source": [
        "Наши данные могут содержать выбросы, такие как: очень высокое кол-во просмотров или слишком завышенная цена (например, для привлечения покупателей). Просмотрим boxplot этих показателей"
      ],
      "metadata": {
        "id": "_NAacImKm9Ns"
      }
    },
    {
      "cell_type": "code",
      "source": [
        "sns.boxplot(data['price'])"
      ],
      "metadata": {
        "colab": {
          "base_uri": "https://localhost:8080/",
          "height": 429
        },
        "id": "bWtijXxngoOB",
        "outputId": "f6d95b1b-367c-4c74-ae49-72a3ce3d23d0"
      },
      "execution_count": null,
      "outputs": [
        {
          "output_type": "execute_result",
          "data": {
            "text/plain": [
              "<Axes: ylabel='price'>"
            ]
          },
          "metadata": {},
          "execution_count": 16
        },
        {
          "output_type": "display_data",
          "data": {
            "text/plain": [
              "<Figure size 640x480 with 1 Axes>"
            ],
            "image/png": "[encoded data removed]"
          },
          "metadata": {}
        }
      ]
    },
    {
      "cell_type": "code",
      "source": [
        "sns.boxplot(data['views_cnt'])"
      ],
      "metadata": {
        "colab": {
          "base_uri": "https://localhost:8080/",
          "height": 429
        },
        "id": "0HXTEDi0gxgR",
        "outputId": "d29fdaad-e810-417f-d094-f111798bd492"
      },
      "execution_count": null,
      "outputs": [
        {
          "output_type": "execute_result",
          "data": {
            "text/plain": [
              "<Axes: ylabel='views_cnt'>"
            ]
          },
          "metadata": {},
          "execution_count": 17
        },
        {
          "output_type": "display_data",
          "data": {
            "text/plain": [
              "<Figure size 640x480 with 1 Axes>"
            ],
            "image/png": "[encoded data removed]"
          },
          "metadata": {}
        }
      ]
    },
    {
      "cell_type": "markdown",
      "source": [
        "Убираем выбросы, такие как: число просмотров > 5000 и цена товара >2000"
      ],
      "metadata": {
        "id": "0J4M_LJXhnJQ"
      }
    },
    {
      "cell_type": "code",
      "source": [
        "data = data[(data['average_income'] != 0) & (data['price'] <= 2000) & (data['views_cnt'] <= 5000)]"
      ],
      "metadata": {
        "id": "FnrkxdYIaZJI"
      },
      "execution_count": null,
      "outputs": []
    },
    {
      "cell_type": "code",
      "source": [
        "data.info()"
      ],
      "metadata": {
        "colab": {
          "base_uri": "https://localhost:8080/"
        },
        "id": "QcCu1rVzcTyo",
        "outputId": "7cb9541d-518f-4fcc-ee1d-5190f44d8753"
      },
      "execution_count": null,
      "outputs": [
        {
          "output_type": "stream",
          "name": "stdout",
          "text": [
            "<class 'pandas.core.frame.DataFrame'>\n",
            "Index: 335 entries, 0 to 366\n",
            "Data columns (total 9 columns):\n",
            " #   Column          Non-Null Count  Dtype  \n",
            "---  ------          --------------  -----  \n",
            " 0   name            335 non-null    object \n",
            " 1   price           335 non-null    float64\n",
            " 2   url             335 non-null    object \n",
            " 3   views_cnt       335 non-null    int64  \n",
            " 4   city            335 non-null    object \n",
            " 5   seller          335 non-null    object \n",
            " 6   seller_rating   0 non-null      float64\n",
            " 7   comments_cnt    335 non-null    int64  \n",
            " 8   average_income  335 non-null    int64  \n",
            "dtypes: float64(2), int64(3), object(4)\n",
            "memory usage: 26.2+ KB\n"
          ]
        }
      ]
    },
    {
      "cell_type": "markdown",
      "source": [
        "Для построения расчетной регрессионной функции, будем применять линейную регрессию"
      ],
      "metadata": {
        "id": "esM5QEjpnKC8"
      }
    },
    {
      "cell_type": "code",
      "source": [
        "model = LinearRegression()"
      ],
      "metadata": {
        "id": "xmwpPf5fJ8lN"
      },
      "execution_count": null,
      "outputs": []
    },
    {
      "cell_type": "code",
      "source": [
        "X = data[['price', 'average_income', 'comments_cnt']]\n",
        "y = data['views_cnt']"
      ],
      "metadata": {
        "id": "tgFsdEMoJ_Mf"
      },
      "execution_count": null,
      "outputs": []
    },
    {
      "cell_type": "code",
      "source": [
        "plt.scatter(X['price'], y, alpha = 0.5)\n",
        "plt.grid()\n",
        "plt.xlabel('Стоимость товара, руб.')\n",
        "plt.ylabel('Кол-во просмотров')\n",
        "plt.title('Зависимость кол-ва просмотров от стоимости товара')\n",
        "plt.show()"
      ],
      "metadata": {
        "colab": {
          "base_uri": "https://localhost:8080/",
          "height": 472
        },
        "id": "PzfrPfqNKfRi",
        "outputId": "58a2e758-969c-4c8c-b638-7604484e9fd5"
      },
      "execution_count": null,
      "outputs": [
        {
          "output_type": "display_data",
          "data": {
            "text/plain": [
              "<Figure size 640x480 with 1 Axes>"
            ],
            "image/png": "[encoded data removed]"
          },
          "metadata": {}
        }
      ]
    },
    {
      "cell_type": "markdown",
      "source": [
        "Построим расчетную прямую спроса только по 1 критерию: цена"
      ],
      "metadata": {
        "id": "8xA74phdk6cf"
      }
    },
    {
      "cell_type": "code",
      "source": [
        "X_price = data[['price']]"
      ],
      "metadata": {
        "id": "oDi45TXifskF"
      },
      "execution_count": null,
      "outputs": []
    },
    {
      "cell_type": "code",
      "source": [
        "model.fit(X_price, y)"
      ],
      "metadata": {
        "id": "i_23SIFNK3YQ",
        "colab": {
          "base_uri": "https://localhost:8080/",
          "height": 80
        },
        "outputId": "88b1b96d-446d-4f68-f3fd-49ef8e90b51b"
      },
      "execution_count": null,
      "outputs": [
        {
          "output_type": "execute_result",
          "data": {
            "text/plain": [
              "LinearRegression()"
            ],
            "text/html": [
              "<style>#sk-container-id-1 {\n",
              "  /* Definition of color scheme common for light and dark mode */\n",
              "  --sklearn-color-text: #000;\n",
              "  --sklearn-color-text-muted: #666;\n",
              "  --sklearn-color-line: gray;\n",
              "  /* Definition of color scheme for unfitted estimators */\n",
              "  --sklearn-color-unfitted-level-0: #fff5e6;\n",
              "  --sklearn-color-unfitted-level-1: #f6e4d2;\n",
              "  --sklearn-color-unfitted-level-2: #ffe0b3;\n",
              "  --sklearn-color-unfitted-level-3: chocolate;\n",
              "  /* Definition of color scheme for fitted estimators */\n",
              "  --sklearn-color-fitted-level-0: #f0f8ff;\n",
              "  --sklearn-color-fitted-level-1: #d4ebff;\n",
              "  --sklearn-color-fitted-level-2: #b3dbfd;\n",
              "  --sklearn-color-fitted-level-3: cornflowerblue;\n",
              "\n",
              "  /* Specific color for light theme */\n",
              "  --sklearn-color-text-on-default-background: var(--sg-text-color, var(--theme-code-foreground, var(--jp-content-font-color1, black)));\n",
              "  --sklearn-color-background: var(--sg-background-color, var(--theme-background, var(--jp-layout-color0, white)));\n",
              "  --sklearn-color-border-box: var(--sg-text-color, var(--theme-code-foreground, var(--jp-content-font-color1, black)));\n",
              "  --sklearn-color-icon: #696969;\n",
              "\n",
              "  @media (prefers-color-scheme: dark) {\n",
              "    /* Redefinition of color scheme for dark theme */\n",
              "    --sklearn-color-text-on-default-background: var(--sg-text-color, var(--theme-code-foreground, var(--jp-content-font-color1, white)));\n",
              "    --sklearn-color-background: var(--sg-background-color, var(--theme-background, var(--jp-layout-color0, #111)));\n",
              "    --sklearn-color-border-box: var(--sg-text-color, var(--theme-code-foreground, var(--jp-content-font-color1, white)));\n",
              "    --sklearn-color-icon: #878787;\n",
              "  }\n",
              "}\n",
              "\n",
              "#sk-container-id-1 {\n",
              "  color: var(--sklearn-color-text);\n",
              "}\n",
              "\n",
              "#sk-container-id-1 pre {\n",
              "  padding: 0;\n",
              "}\n",
              "\n",
              "#sk-container-id-1 input.sk-hidden--visually {\n",
              "  border: 0;\n",
              "  clip: rect(1px 1px 1px 1px);\n",
              "  clip: rect(1px, 1px, 1px, 1px);\n",
              "  height: 1px;\n",
              "  margin: -1px;\n",
              "  overflow: hidden;\n",
              "  padding: 0;\n",
              "  position: absolute;\n",
              "  width: 1px;\n",
              "}\n",
              "\n",
              "#sk-container-id-1 div.sk-dashed-wrapped {\n",
              "  border: 1px dashed var(--sklearn-color-line);\n",
              "  margin: 0 0.4em 0.5em 0.4em;\n",
              "  box-sizing: border-box;\n",
              "  padding-bottom: 0.4em;\n",
              "  background-color: var(--sklearn-color-background);\n",
              "}\n",
              "\n",
              "#sk-container-id-1 div.sk-container {\n",
              "  /* jupyter's `normalize.less` sets `[hidden] { display: none; }`\n",
              "     but bootstrap.min.css set `[hidden] { display: none !important; }`\n",
              "     so we also need the `!important` here to be able to override the\n",
              "     default hidden behavior on the sphinx rendered scikit-learn.org.\n",
              "     See: https://github.com/scikit-learn/scikit-learn/issues/21755 */\n",
              "  display: inline-block !important;\n",
              "  position: relative;\n",
              "}\n",
              "\n",
              "#sk-container-id-1 div.sk-text-repr-fallback {\n",
              "  display: none;\n",
              "}\n",
              "\n",
              "div.sk-parallel-item,\n",
              "div.sk-serial,\n",
              "div.sk-item {\n",
              "  /* draw centered vertical line to link estimators */\n",
              "  background-image: linear-gradient(var(--sklearn-color-text-on-default-background), var(--sklearn-color-text-on-default-background));\n",
              "  background-size: 2px 100%;\n",
              "  background-repeat: no-repeat;\n",
              "  background-position: center center;\n",
              "}\n",
              "\n",
              "/* Parallel-specific style estimator block */\n",
              "\n",
              "#sk-container-id-1 div.sk-parallel-item::after {\n",
              "  content: \"\";\n",
              "  width: 100%;\n",
              "  border-bottom: 2px solid var(--sklearn-color-text-on-default-background);\n",
              "  flex-grow: 1;\n",
              "}\n",
              "\n",
              "#sk-container-id-1 div.sk-parallel {\n",
              "  display: flex;\n",
              "  align-items: stretch;\n",
              "  justify-content: center;\n",
              "  background-color: var(--sklearn-color-background);\n",
              "  position: relative;\n",
              "}\n",
              "\n",
              "#sk-container-id-1 div.sk-parallel-item {\n",
              "  display: flex;\n",
              "  flex-direction: column;\n",
              "}\n",
              "\n",
              "#sk-container-id-1 div.sk-parallel-item:first-child::after {\n",
              "  align-self: flex-end;\n",
              "  width: 50%;\n",
              "}\n",
              "\n",
              "#sk-container-id-1 div.sk-parallel-item:last-child::after {\n",
              "  align-self: flex-start;\n",
              "  width: 50%;\n",
              "}\n",
              "\n",
              "#sk-container-id-1 div.sk-parallel-item:only-child::after {\n",
              "  width: 0;\n",
              "}\n",
              "\n",
              "/* Serial-specific style estimator block */\n",
              "\n",
              "#sk-container-id-1 div.sk-serial {\n",
              "  display: flex;\n",
              "  flex-direction: column;\n",
              "  align-items: center;\n",
              "  background-color: var(--sklearn-color-background);\n",
              "  padding-right: 1em;\n",
              "  padding-left: 1em;\n",
              "}\n",
              "\n",
              "\n",
              "/* Toggleable style: style used for estimator/Pipeline/ColumnTransformer box that is\n",
              "clickable and can be expanded/collapsed.\n",
              "- Pipeline and ColumnTransformer use this feature and define the default style\n",
              "- Estimators will overwrite some part of the style using the `sk-estimator` class\n",
              "*/\n",
              "\n",
              "/* Pipeline and ColumnTransformer style (default) */\n",
              "\n",
              "#sk-container-id-1 div.sk-toggleable {\n",
              "  /* Default theme specific background. It is overwritten whether we have a\n",
              "  specific estimator or a Pipeline/ColumnTransformer */\n",
              "  background-color: var(--sklearn-color-background);\n",
              "}\n",
              "\n",
              "/* Toggleable label */\n",
              "#sk-container-id-1 label.sk-toggleable__label {\n",
              "  cursor: pointer;\n",
              "  display: flex;\n",
              "  width: 100%;\n",
              "  margin-bottom: 0;\n",
              "  padding: 0.5em;\n",
              "  box-sizing: border-box;\n",
              "  text-align: center;\n",
              "  align-items: start;\n",
              "  justify-content: space-between;\n",
              "  gap: 0.5em;\n",
              "}\n",
              "\n",
              "#sk-container-id-1 label.sk-toggleable__label .caption {\n",
              "  font-size: 0.6rem;\n",
              "  font-weight: lighter;\n",
              "  color: var(--sklearn-color-text-muted);\n",
              "}\n",
              "\n",
              "#sk-container-id-1 label.sk-toggleable__label-arrow:before {\n",
              "  /* Arrow on the left of the label */\n",
              "  content: \"▸\";\n",
              "  float: left;\n",
              "  margin-right: 0.25em;\n",
              "  color: var(--sklearn-color-icon);\n",
              "}\n",
              "\n",
              "#sk-container-id-1 label.sk-toggleable__label-arrow:hover:before {\n",
              "  color: var(--sklearn-color-text);\n",
              "}\n",
              "\n",
              "/* Toggleable content - dropdown */\n",
              "\n",
              "#sk-container-id-1 div.sk-toggleable__content {\n",
              "  max-height: 0;\n",
              "  max-width: 0;\n",
              "  overflow: hidden;\n",
              "  text-align: left;\n",
              "  /* unfitted */\n",
              "  background-color: var(--sklearn-color-unfitted-level-0);\n",
              "}\n",
              "\n",
              "#sk-container-id-1 div.sk-toggleable__content.fitted {\n",
              "  /* fitted */\n",
              "  background-color: var(--sklearn-color-fitted-level-0);\n",
              "}\n",
              "\n",
              "#sk-container-id-1 div.sk-toggleable__content pre {\n",
              "  margin: 0.2em;\n",
              "  border-radius: 0.25em;\n",
              "  color: var(--sklearn-color-text);\n",
              "  /* unfitted */\n",
              "  background-color: var(--sklearn-color-unfitted-level-0);\n",
              "}\n",
              "\n",
              "#sk-container-id-1 div.sk-toggleable__content.fitted pre {\n",
              "  /* unfitted */\n",
              "  background-color: var(--sklearn-color-fitted-level-0);\n",
              "}\n",
              "\n",
              "#sk-container-id-1 input.sk-toggleable__control:checked~div.sk-toggleable__content {\n",
              "  /* Expand drop-down */\n",
              "  max-height: 200px;\n",
              "  max-width: 100%;\n",
              "  overflow: auto;\n",
              "}\n",
              "\n",
              "#sk-container-id-1 input.sk-toggleable__control:checked~label.sk-toggleable__label-arrow:before {\n",
              "  content: \"▾\";\n",
              "}\n",
              "\n",
              "/* Pipeline/ColumnTransformer-specific style */\n",
              "\n",
              "#sk-container-id-1 div.sk-label input.sk-toggleable__control:checked~label.sk-toggleable__label {\n",
              "  color: var(--sklearn-color-text);\n",
              "  background-color: var(--sklearn-color-unfitted-level-2);\n",
              "}\n",
              "\n",
              "#sk-container-id-1 div.sk-label.fitted input.sk-toggleable__control:checked~label.sk-toggleable__label {\n",
              "  background-color: var(--sklearn-color-fitted-level-2);\n",
              "}\n",
              "\n",
              "/* Estimator-specific style */\n",
              "\n",
              "/* Colorize estimator box */\n",
              "#sk-container-id-1 div.sk-estimator input.sk-toggleable__control:checked~label.sk-toggleable__label {\n",
              "  /* unfitted */\n",
              "  background-color: var(--sklearn-color-unfitted-level-2);\n",
              "}\n",
              "\n",
              "#sk-container-id-1 div.sk-estimator.fitted input.sk-toggleable__control:checked~label.sk-toggleable__label {\n",
              "  /* fitted */\n",
              "  background-color: var(--sklearn-color-fitted-level-2);\n",
              "}\n",
              "\n",
              "#sk-container-id-1 div.sk-label label.sk-toggleable__label,\n",
              "#sk-container-id-1 div.sk-label label {\n",
              "  /* The background is the default theme color */\n",
              "  color: var(--sklearn-color-text-on-default-background);\n",
              "}\n",
              "\n",
              "/* On hover, darken the color of the background */\n",
              "#sk-container-id-1 div.sk-label:hover label.sk-toggleable__label {\n",
              "  color: var(--sklearn-color-text);\n",
              "  background-color: var(--sklearn-color-unfitted-level-2);\n",
              "}\n",
              "\n",
              "/* Label box, darken color on hover, fitted */\n",
              "#sk-container-id-1 div.sk-label.fitted:hover label.sk-toggleable__label.fitted {\n",
              "  color: var(--sklearn-color-text);\n",
              "  background-color: var(--sklearn-color-fitted-level-2);\n",
              "}\n",
              "\n",
              "/* Estimator label */\n",
              "\n",
              "#sk-container-id-1 div.sk-label label {\n",
              "  font-family: monospace;\n",
              "  font-weight: bold;\n",
              "  display: inline-block;\n",
              "  line-height: 1.2em;\n",
              "}\n",
              "\n",
              "#sk-container-id-1 div.sk-label-container {\n",
              "  text-align: center;\n",
              "}\n",
              "\n",
              "/* Estimator-specific */\n",
              "#sk-container-id-1 div.sk-estimator {\n",
              "  font-family: monospace;\n",
              "  border: 1px dotted var(--sklearn-color-border-box);\n",
              "  border-radius: 0.25em;\n",
              "  box-sizing: border-box;\n",
              "  margin-bottom: 0.5em;\n",
              "  /* unfitted */\n",
              "  background-color: var(--sklearn-color-unfitted-level-0);\n",
              "}\n",
              "\n",
              "#sk-container-id-1 div.sk-estimator.fitted {\n",
              "  /* fitted */\n",
              "  background-color: var(--sklearn-color-fitted-level-0);\n",
              "}\n",
              "\n",
              "/* on hover */\n",
              "#sk-container-id-1 div.sk-estimator:hover {\n",
              "  /* unfitted */\n",
              "  background-color: var(--sklearn-color-unfitted-level-2);\n",
              "}\n",
              "\n",
              "#sk-container-id-1 div.sk-estimator.fitted:hover {\n",
              "  /* fitted */\n",
              "  background-color: var(--sklearn-color-fitted-level-2);\n",
              "}\n",
              "\n",
              "/* Specification for estimator info (e.g. \"i\" and \"?\") */\n",
              "\n",
              "/* Common style for \"i\" and \"?\" */\n",
              "\n",
              ".sk-estimator-doc-link,\n",
              "a:link.sk-estimator-doc-link,\n",
              "a:visited.sk-estimator-doc-link {\n",
              "  float: right;\n",
              "  font-size: smaller;\n",
              "  line-height: 1em;\n",
              "  font-family: monospace;\n",
              "  background-color: var(--sklearn-color-background);\n",
              "  border-radius: 1em;\n",
              "  height: 1em;\n",
              "  width: 1em;\n",
              "  text-decoration: none !important;\n",
              "  margin-left: 0.5em;\n",
              "  text-align: center;\n",
              "  /* unfitted */\n",
              "  border: var(--sklearn-color-unfitted-level-1) 1pt solid;\n",
              "  color: var(--sklearn-color-unfitted-level-1);\n",
              "}\n",
              "\n",
              ".sk-estimator-doc-link.fitted,\n",
              "a:link.sk-estimator-doc-link.fitted,\n",
              "a:visited.sk-estimator-doc-link.fitted {\n",
              "  /* fitted */\n",
              "  border: var(--sklearn-color-fitted-level-1) 1pt solid;\n",
              "  color: var(--sklearn-color-fitted-level-1);\n",
              "}\n",
              "\n",
              "/* On hover */\n",
              "div.sk-estimator:hover .sk-estimator-doc-link:hover,\n",
              ".sk-estimator-doc-link:hover,\n",
              "div.sk-label-container:hover .sk-estimator-doc-link:hover,\n",
              ".sk-estimator-doc-link:hover {\n",
              "  /* unfitted */\n",
              "  background-color: var(--sklearn-color-unfitted-level-3);\n",
              "  color: var(--sklearn-color-background);\n",
              "  text-decoration: none;\n",
              "}\n",
              "\n",
              "div.sk-estimator.fitted:hover .sk-estimator-doc-link.fitted:hover,\n",
              ".sk-estimator-doc-link.fitted:hover,\n",
              "div.sk-label-container:hover .sk-estimator-doc-link.fitted:hover,\n",
              ".sk-estimator-doc-link.fitted:hover {\n",
              "  /* fitted */\n",
              "  background-color: var(--sklearn-color-fitted-level-3);\n",
              "  color: var(--sklearn-color-background);\n",
              "  text-decoration: none;\n",
              "}\n",
              "\n",
              "/* Span, style for the box shown on hovering the info icon */\n",
              ".sk-estimator-doc-link span {\n",
              "  display: none;\n",
              "  z-index: 9999;\n",
              "  position: relative;\n",
              "  font-weight: normal;\n",
              "  right: .2ex;\n",
              "  padding: .5ex;\n",
              "  margin: .5ex;\n",
              "  width: min-content;\n",
              "  min-width: 20ex;\n",
              "  max-width: 50ex;\n",
              "  color: var(--sklearn-color-text);\n",
              "  box-shadow: 2pt 2pt 4pt #999;\n",
              "  /* unfitted */\n",
              "  background: var(--sklearn-color-unfitted-level-0);\n",
              "  border: .5pt solid var(--sklearn-color-unfitted-level-3);\n",
              "}\n",
              "\n",
              ".sk-estimator-doc-link.fitted span {\n",
              "  /* fitted */\n",
              "  background: var(--sklearn-color-fitted-level-0);\n",
              "  border: var(--sklearn-color-fitted-level-3);\n",
              "}\n",
              "\n",
              ".sk-estimator-doc-link:hover span {\n",
              "  display: block;\n",
              "}\n",
              "\n",
              "/* \"?\"-specific style due to the `<a>` HTML tag */\n",
              "\n",
              "#sk-container-id-1 a.estimator_doc_link {\n",
              "  float: right;\n",
              "  font-size: 1rem;\n",
              "  line-height: 1em;\n",
              "  font-family: monospace;\n",
              "  background-color: var(--sklearn-color-background);\n",
              "  border-radius: 1rem;\n",
              "  height: 1rem;\n",
              "  width: 1rem;\n",
              "  text-decoration: none;\n",
              "  /* unfitted */\n",
              "  color: var(--sklearn-color-unfitted-level-1);\n",
              "  border: var(--sklearn-color-unfitted-level-1) 1pt solid;\n",
              "}\n",
              "\n",
              "#sk-container-id-1 a.estimator_doc_link.fitted {\n",
              "  /* fitted */\n",
              "  border: var(--sklearn-color-fitted-level-1) 1pt solid;\n",
              "  color: var(--sklearn-color-fitted-level-1);\n",
              "}\n",
              "\n",
              "/* On hover */\n",
              "#sk-container-id-1 a.estimator_doc_link:hover {\n",
              "  /* unfitted */\n",
              "  background-color: var(--sklearn-color-unfitted-level-3);\n",
              "  color: var(--sklearn-color-background);\n",
              "  text-decoration: none;\n",
              "}\n",
              "\n",
              "#sk-container-id-1 a.estimator_doc_link.fitted:hover {\n",
              "  /* fitted */\n",
              "  background-color: var(--sklearn-color-fitted-level-3);\n",
              "}\n",
              "</style><div id=\"sk-container-id-1\" class=\"sk-top-container\"><div class=\"sk-text-repr-fallback\"><pre>LinearRegression()</pre><b>In a Jupyter environment, please rerun this cell to show the HTML representation or trust the notebook. <br />On GitHub, the HTML representation is unable to render, please try loading this page with nbviewer.org.</b></div><div class=\"sk-container\" hidden><div class=\"sk-item\"><div class=\"sk-estimator fitted sk-toggleable\"><input class=\"sk-toggleable__control sk-hidden--visually\" id=\"sk-estimator-id-1\" type=\"checkbox\" checked><label for=\"sk-estimator-id-1\" class=\"sk-toggleable__label fitted sk-toggleable__label-arrow\"><div><div>LinearRegression</div></div><div><a class=\"sk-estimator-doc-link fitted\" rel=\"noreferrer\" target=\"_blank\" href=\"https://scikit-learn.org/1.6/modules/generated/sklearn.linear_model.LinearRegression.html\">?<span>Documentation for LinearRegression</span></a><span class=\"sk-estimator-doc-link fitted\">i<span>Fitted</span></span></div></label><div class=\"sk-toggleable__content fitted\"><pre>LinearRegression()</pre></div> </div></div></div></div>"
            ]
          },
          "metadata": {},
          "execution_count": 24
        }
      ]
    },
    {
      "cell_type": "code",
      "source": [
        "model.coef_, model.intercept_"
      ],
      "metadata": {
        "colab": {
          "base_uri": "https://localhost:8080/"
        },
        "id": "oHQD6-EFc1wh",
        "outputId": "ab6dd1ff-5ccd-4be3-92fc-a222cfe070c4"
      },
      "execution_count": null,
      "outputs": [
        {
          "output_type": "execute_result",
          "data": {
            "text/plain": [
              "(array([-0.4681874]), np.float64(834.1598660433428))"
            ]
          },
          "metadata": {},
          "execution_count": 25
        }
      ]
    },
    {
      "cell_type": "markdown",
      "source": [
        "Получает следующую зависимость\n",
        "Q = 834.16 - 0.46 * P\n",
        "Построим график и посомтрим на функцию"
      ],
      "metadata": {
        "id": "F_mluafflA1a"
      }
    },
    {
      "cell_type": "code",
      "source": [
        "sorted_idx = X['price'].argsort()\n",
        "X_sorted = X.iloc[sorted_idx]\n",
        "y_pred = model.predict(X[['price']])\n",
        "y_sorted_pred = y_pred[sorted_idx]\n",
        "print('R2 score: ', r2_score(y, y_pred))\n",
        "print('MAE: ', mean_absolute_error(y, y_pred))"
      ],
      "metadata": {
        "colab": {
          "base_uri": "https://localhost:8080/"
        },
        "id": "ZNNOq3zZeoZi",
        "outputId": "1c9a87b4-01fb-4d08-f110-2367d086e7cd"
      },
      "execution_count": null,
      "outputs": [
        {
          "output_type": "stream",
          "name": "stdout",
          "text": [
            "R2 score:  0.06057253340845814\n",
            "MAE:  572.4882473421003\n"
          ]
        }
      ]
    },
    {
      "cell_type": "code",
      "source": [
        "plt.scatter(X['price'], y, alpha = 0.5, label = 'Исходные данные')\n",
        "plt.plot(X_sorted['price'], y_sorted_pred, color = 'red', linewidth=2, label = 'Регрессионная прямая')\n",
        "plt.xlabel('Стоимость товара')\n",
        "plt.ylabel('Кол-во просмотров')\n",
        "plt.title('Зависимость числа просмотров от цены')\n",
        "plt.grid()\n",
        "plt.legend()\n",
        "plt.show()"
      ],
      "metadata": {
        "colab": {
          "base_uri": "https://localhost:8080/",
          "height": 472
        },
        "id": "H-wHPeE1c3wX",
        "outputId": "7009c7c4-5c8b-4cbd-cacc-ad09fe0f17ca"
      },
      "execution_count": null,
      "outputs": [
        {
          "output_type": "display_data",
          "data": {
            "text/plain": [
              "<Figure size 640x480 with 1 Axes>"
            ],
            "image/png": "[encoded data removed]"
          },
          "metadata": {}
        }
      ]
    },
    {
      "cell_type": "markdown",
      "source": [
        "Добавим остальные параметры в наш алгоритм и найдем оставшиеся переменные"
      ],
      "metadata": {
        "id": "R1zL7W1sniaI"
      }
    },
    {
      "cell_type": "code",
      "source": [
        "model.fit(X, y)\n",
        "y_pred = model.predict(X)\n",
        "print('r2 score: ', r2_score(y, y_pred))\n",
        "print(\"mae: \", mean_absolute_error(y, y_pred))"
      ],
      "metadata": {
        "colab": {
          "base_uri": "https://localhost:8080/"
        },
        "id": "zI3MwhCMdqbZ",
        "outputId": "ed8de9dd-066a-4b48-9b35-276ba34f75b6"
      },
      "execution_count": null,
      "outputs": [
        {
          "output_type": "stream",
          "name": "stdout",
          "text": [
            "r2 score:  0.07344815479536693\n",
            "mae:  562.2756374774466\n"
          ]
        }
      ]
    },
    {
      "cell_type": "code",
      "source": [
        "model.coef_, model.intercept_"
      ],
      "metadata": {
        "colab": {
          "base_uri": "https://localhost:8080/"
        },
        "id": "Q4kcctVJjTgk",
        "outputId": "f1efab7c-d1d4-4d14-a31b-c3e0f8438d4d"
      },
      "execution_count": null,
      "outputs": [
        {
          "output_type": "execute_result",
          "data": {
            "text/plain": [
              "(array([-0.3893681 , -0.00215213,  0.54592668]), np.float64(966.6423802520779))"
            ]
          },
          "metadata": {},
          "execution_count": 29
        }
      ]
    },
    {
      "cell_type": "markdown",
      "source": [
        "Таким образом, наша функция имеет следующий вид: **Q** = 966,642 - 0.389**P** - 0.002**I** + 0.546**A**"
      ],
      "metadata": {
        "id": "LI3ZcItynppN"
      }
    },
    {
      "cell_type": "code",
      "source": [
        "X['price'].mean(), X['average_income'].mean(), X['comments_cnt'].mean()"
      ],
      "metadata": {
        "colab": {
          "base_uri": "https://localhost:8080/"
        },
        "id": "H9gflg7bsZPk",
        "outputId": "c01293d3-7bb4-4aaf-9933-9140a5ec9cbb"
      },
      "execution_count": null,
      "outputs": [
        {
          "output_type": "execute_result",
          "data": {
            "text/plain": [
              "(np.float64(639.5611940298508),\n",
              " np.float64(97274.1104477612),\n",
              " np.float64(48.45671641791045))"
            ]
          },
          "metadata": {},
          "execution_count": 30
        }
      ]
    },
    {
      "cell_type": "markdown",
      "source": [
        "Расчитаем по нашим данным эластичность спроса по ценовым и неценовым факторам\n",
        "формула для расчета:\n",
        "\n",
        "![image.png](data:image/png;base64,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)"
      ],
      "metadata": {
        "id": "H6lFy6ZHJNpy"
      }
    },
    {
      "cell_type": "code",
      "source": [
        "Ep = -0.389*X['price'].mean()/y.mean()\n",
        "Ei = -0.002*X['average_income'].mean()/y.mean()\n",
        "Ea = 0.546*X['comments_cnt'].mean()/y.mean()"
      ],
      "metadata": {
        "id": "ksIZQGgMJemy"
      },
      "execution_count": null,
      "outputs": []
    },
    {
      "cell_type": "code",
      "source": [
        "print(f'Эластичность спроса по цене: {round(Ep, 2)}')\n",
        "print(f'Эластичность спроса по доходу: {round(Ei,2)}')\n",
        "print(f'Эластичность спроса по количеству комментариев: {round(Ea,2)}')"
      ],
      "metadata": {
        "colab": {
          "base_uri": "https://localhost:8080/"
        },
        "id": "yABPDdgnJws8",
        "outputId": "1a18e64e-fe5a-41a9-f6a1-b62f9d95f5ba"
      },
      "execution_count": null,
      "outputs": [
        {
          "output_type": "stream",
          "name": "stdout",
          "text": [
            "Эластичность спроса по цене: -0.47\n",
            "Эластичность спроса по доходу: -0.36\n",
            "Эластичность спроса по количеству комментариев: 0.05\n"
          ]
        }
      ]
    },
    {
      "cell_type": "markdown",
      "source": [
        "**Выводы**\n",
        "\n",
        "В ходе анализа была выявлена зависимость спроса (в нашем случае — числа просмотров объявлений) от следующих факторов: цена товара, средний доход потребителей (средняя зарплата по региону) и бюджет на рекламу (в качестве данного параметра использовано количество комментариев у продавца).\n",
        "\n",
        "Для решения задачи применена линейная модель, по результатам которой получено следующее уравнение зависимости:\n",
        "\n",
        "\n",
        "Q=966.642−0.389P−0.002I+0.546A\n",
        "\n",
        "\n",
        "Где:\n",
        "\n",
        "Q — спрос (количество просмотров),\n",
        "\n",
        "P — цена товара,\n",
        "\n",
        "I — средний доход потребителей,\n",
        "\n",
        "A — бюджет на рекламу (количество комментариев).\n",
        "\n",
        "Исходя из полученной модели, можно сделать следующие выводы:\n",
        "\n",
        "**1. Зависимость спроса от цены**\n",
        "\n",
        "Спрос и цена находятся в обратной зависимости: при увеличении цены спрос снижается, что является ожидаемым результатом. Однако расчет коэффициента эластичности спроса по цене показал, что влияние цены на спрос невелико. В частности, при снижении цены на 1% спрос увеличится лишь на 0.47%.\n",
        "\n",
        "**2. Зависимость спроса от дохода потребителей**\n",
        "\n",
        "Интересная закономерность наблюдается в отношении среднего дохода: с его ростом спрос на товар снижается. Это можно объяснить тем, что при увеличении доходов потребители переходят в более премиальный сегмент украшений.\n",
        "\n",
        "**3. Влияние рекламы на спрос**\n",
        "\n",
        "В отличие от цены и дохода, зависимость спроса от рекламы является прямой и имеет наибольший коэффициент среди всех факторов. Это говорит о том, что в данном сегменте (украшения в этно-стиле) целесообразнее увеличивать бюджет на продвижение, а не снижать цену, особенно если текущая цена находится в среднем диапазоне относительно конкурентов.\n",
        "\n",
        "\n",
        "\n"
      ],
      "metadata": {
        "id": "BbXt5IDiHhal"
      }
    }
  ]
}